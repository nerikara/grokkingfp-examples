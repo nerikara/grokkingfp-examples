{
 "cells": [
  {
   "cell_type": "markdown",
   "metadata": {},
   "source": [
    "# 第9章 値としてのストリーム\n",
    "\n",
    "学習ステップ:\n",
    "\n",
    "1. IOだけを使う\n",
    "2. 再帰でIOを使う\n",
    "3. StreamでIOを使う"
   ]
  },
  {
   "cell_type": "markdown",
   "metadata": {},
   "source": [
    "## 9.2 未知数の値に対処する\n",
    "\n",
    "要件: オンライン両替\n",
    "\n",
    "1. ユーザーは、ある通貨の特定の金額を別の通貨に両替することを要求できる。\n",
    "2. 要求された両替が実行されるのは、その通貨ペアの為替レートが**上昇傾向**にある場合に限られる。  \n",
    "   上昇傾向とは、直近のn個のレートがそれぞれ1つ前のレートよりも高いことを意味する。  \n",
    "   たとえばn=3の場合、0.81, 0.82, 0.85は上昇傾向であり、0.81, 0.80, 0.85は上昇傾向ではない。\n",
    "3. API呼び出し関数exchangeTableが用意されている。  \n",
    "   この関数は、両替元の通貨から、サポートされている他の通貨への、現在の為替レートテーブルだけを取得する。"
   ]
  },
  {
   "cell_type": "code",
   "execution_count": 1,
   "metadata": {},
   "outputs": [
    {
     "data": {
      "text/plain": [
       "defined \u001b[32mfunction\u001b[39m \u001b[36mexchangeRatesTableApiCall\u001b[39m"
      ]
     },
     "execution_count": 1,
     "metadata": {},
     "output_type": "execute_result"
    }
   ],
   "source": [
    "// 副作用のあるAPIを呼び出す。\n",
    "// 特定のレートがない為替テーブルが返される場合がある。\n",
    "//\n",
    "// 実行例:\n",
    "// exchangeRatesTableApiCall(\"USD\")\n",
    "// → Map(\"JPY\" -> 104.54, \"EUR\" -> 0.81)\n",
    "//\n",
    "// exchangeRatesTableApiCall(\"USD\")\n",
    "// → Exception in thread \"main\": Connection error\n",
    "//\n",
    "// exchangeRatesTableApiCall(\"USD\")\n",
    "// → Map(\"EUR\" -> 0.79)\n",
    "def exchangeRatesTableApiCall(currency: String): Map[String, BigDecimal] = ???\n"
   ]
  },
  {
   "cell_type": "code",
   "execution_count": 2,
   "metadata": {},
   "outputs": [
    {
     "data": {
      "text/plain": [
       "defined \u001b[32mobject\u001b[39m \u001b[36mmodel\u001b[39m\r\n",
       "\u001b[32mimport \u001b[39m\u001b[36mmodel._\n",
       "\r\n",
       "\u001b[39m"
      ]
     },
     "execution_count": 2,
     "metadata": {},
     "output_type": "execute_result"
    }
   ],
   "source": [
    "object model {\n",
    "  opaque type Currency = String\n",
    "  object Currency {\n",
    "    def apply(name: String): Currency = name\n",
    "    extension (currency: Currency) def name: String = currency\n",
    "  }\n",
    "}\n",
    "import model._\n"
   ]
  },
  {
   "cell_type": "code",
   "execution_count": 3,
   "metadata": {},
   "outputs": [
    {
     "data": {
      "text/plain": [
       "\u001b[32mimport \u001b[39m\u001b[36m$ivy.$                                 \n",
       "\u001b[39m\r\n",
       "\u001b[32mimport \u001b[39m\u001b[36mcats.effect._\n",
       "\u001b[39m\r\n",
       "\u001b[32mimport \u001b[39m\u001b[36mcats.implicits._\n",
       "\n",
       "// 次に作りたいやつのシグネチャ\n",
       "\u001b[39m\r\n",
       "defined \u001b[32mfunction\u001b[39m \u001b[36mexchangeTable\u001b[39m"
      ]
     },
     "execution_count": 3,
     "metadata": {},
     "output_type": "execute_result"
    }
   ],
   "source": [
    "import $ivy.`org.typelevel::cats-effect:3.3.1`\n",
    "import cats.effect._\n",
    "import cats.implicits._\n",
    "\n",
    "// 次に作りたいやつのシグネチャ\n",
    "def exchangeTable(from: Currency): IO[Map[Currency, BigDecimal]] = ???\n"
   ]
  },
  {
   "cell_type": "markdown",
   "metadata": {},
   "source": [
    "## 9.6 実習: イミュータブルマップ"
   ]
  },
  {
   "cell_type": "code",
   "execution_count": 4,
   "metadata": {},
   "outputs": [
    {
     "data": {
      "text/plain": [
       "\u001b[36mm1\u001b[39m: \u001b[32mMap\u001b[39m[\u001b[32mString\u001b[39m, \u001b[32mString\u001b[39m] = \u001b[33mMap\u001b[39m(\u001b[32m\"key\"\u001b[39m -> \u001b[32m\"value\"\u001b[39m)\r\n",
       "\u001b[36mm2\u001b[39m: \u001b[32mMap\u001b[39m[\u001b[32mString\u001b[39m, \u001b[32mString\u001b[39m] = \u001b[33mMap\u001b[39m(\u001b[32m\"key\"\u001b[39m -> \u001b[32m\"value\"\u001b[39m, \u001b[32m\"key2\"\u001b[39m -> \u001b[32m\"value2\"\u001b[39m)\r\n",
       "\u001b[36mm3\u001b[39m: \u001b[32mMap\u001b[39m[\u001b[32mString\u001b[39m, \u001b[32mString\u001b[39m] = \u001b[33mMap\u001b[39m(\u001b[32m\"key\"\u001b[39m -> \u001b[32m\"value\"\u001b[39m, \u001b[32m\"key2\"\u001b[39m -> \u001b[32m\"another2\"\u001b[39m)\r\n",
       "\u001b[36mm4\u001b[39m: \u001b[32mMap\u001b[39m[\u001b[32mString\u001b[39m, \u001b[32mString\u001b[39m] = \u001b[33mMap\u001b[39m(\u001b[32m\"key2\"\u001b[39m -> \u001b[32m\"value2\"\u001b[39m)\r\n",
       "\u001b[36mvalueFromM3\u001b[39m: \u001b[32mOption\u001b[39m[\u001b[32mString\u001b[39m] = \u001b[33mSome\u001b[39m(value = \u001b[32m\"value\"\u001b[39m)\r\n",
       "\u001b[36mvalueFromM4\u001b[39m: \u001b[32mOption\u001b[39m[\u001b[32mString\u001b[39m] = \u001b[32mNone\u001b[39m"
      ]
     },
     "execution_count": 4,
     "metadata": {},
     "output_type": "execute_result"
    }
   ],
   "source": [
    "val m1: Map[String, String] = Map(\"key\" -> \"value\")\n",
    "val m2: Map[String, String] = m1.updated(\"key2\", \"value2\")\n",
    "val m3: Map[String, String] = m2.updated(\"key2\", \"another2\")\n",
    "val m4: Map[String, String] = m2.removed(\"key\")\n",
    "val valueFromM3: Option[String] = m3.get(\"key\")\n",
    "val valueFromM4: Option[String] = m4.get(\"key\")\n"
   ]
  },
  {
   "cell_type": "markdown",
   "metadata": {},
   "source": [
    "## 9.7 IO呼び出しは何回必要か\n"
   ]
  },
  {
   "cell_type": "code",
   "execution_count": 5,
   "metadata": {},
   "outputs": [
    {
     "data": {
      "text/plain": [
       "defined \u001b[32mfunction\u001b[39m \u001b[36mexchangeIfTrending\u001b[39m"
      ]
     },
     "execution_count": 5,
     "metadata": {},
     "output_type": "execute_result"
    }
   ],
   "source": [
    "// 最終的に作りたいやつのシグネチャ\n",
    "def exchangeIfTrending(amount: BigDecimal, from: Currency, to: Currency): IO[BigDecimal] = ???\n"
   ]
  },
  {
   "cell_type": "markdown",
   "metadata": {},
   "source": [
    "## 9.8 ボトムアップ設計\n",
    "\n",
    "解決しなければならず、すぐに取り組むことができる**小さな問題**:\n",
    "\n",
    "1. レートが上昇傾向にあるかどうかをチェックする\n",
    "    ```scala\n",
    "    def trending(rates: List[BigDecimal]): Boolean = ???\n",
    "    ```\n",
    "2. テーブルから通過を1つ抽出する\n",
    "    ```scala\n",
    "    def extractSingeCurrencyRate(currencyToExtract: Currency)(table: Map[Currency, BigDecimal]): Option[BigDecimal] = ???\n",
    "    ```"
   ]
  },
  {
   "cell_type": "code",
   "execution_count": 6,
   "metadata": {},
   "outputs": [
    {
     "data": {
      "text/plain": [
       "defined \u001b[32mfunction\u001b[39m \u001b[36mtrending\u001b[39m"
      ]
     },
     "execution_count": 6,
     "metadata": {},
     "output_type": "execute_result"
    }
   ],
   "source": [
    "def trending(rates: List[BigDecimal]): Boolean = {\n",
    "  rates.size > 1 &&\n",
    "  rates.zip(rates.drop(1))\n",
    "       .forall(ratePair => ratePair match {\n",
    "          case (previousRate, rate) => rate > previousRate\n",
    "       })\n",
    "}\n"
   ]
  },
  {
   "cell_type": "markdown",
   "metadata": {},
   "source": [
    "## 9.13 コーヒーブレイク: マップとタプルを操作する"
   ]
  },
  {
   "cell_type": "code",
   "execution_count": 7,
   "metadata": {},
   "outputs": [
    {
     "data": {
      "text/plain": [
       "defined \u001b[32mfunction\u001b[39m \u001b[36mextractSingleCurrencyRate\u001b[39m"
      ]
     },
     "execution_count": 7,
     "metadata": {},
     "output_type": "execute_result"
    }
   ],
   "source": [
    "def extractSingleCurrencyRate(currencyToExtract: Currency)(table: Map[Currency, BigDecimal]): Option[BigDecimal] = {\n",
    "  table.get(currencyToExtract)\n",
    "}\n"
   ]
  },
  {
   "cell_type": "code",
   "execution_count": 8,
   "metadata": {},
   "outputs": [
    {
     "data": {
      "text/plain": [
       "defined \u001b[32mfunction\u001b[39m \u001b[36mexchangeTable\u001b[39m"
      ]
     },
     "execution_count": 8,
     "metadata": {},
     "output_type": "execute_result"
    }
   ],
   "source": [
    "def exchangeTable(from: Currency): IO[Map[Currency, BigDecimal]] = {\n",
    "  IO.delay(exchangeRatesTableApiCall(from.name)).map(table =>\n",
    "    table.map(kv =>\n",
    "      kv match {\n",
    "        case (currencyName, rate) => (Currency(currencyName), rate)\n",
    "      }))\n",
    "}\n"
   ]
  },
  {
   "cell_type": "code",
   "execution_count": 9,
   "metadata": {},
   "outputs": [
    {
     "data": {
      "text/plain": [
       "defined \u001b[32mfunction\u001b[39m \u001b[36mretry\u001b[39m\r\n",
       "defined \u001b[32mfunction\u001b[39m \u001b[36mlastRates\u001b[39m\r\n",
       "defined \u001b[32mfunction\u001b[39m \u001b[36mexchangeIfTrending\u001b[39m"
      ]
     },
     "execution_count": 9,
     "metadata": {},
     "output_type": "execute_result"
    }
   ],
   "source": [
    "def retry[A](action: IO[A], maxRetries: Int): IO[A] = {\n",
    "  List\n",
    "    .range(0, maxRetries)\n",
    "    .map(_ => action)\n",
    "    .foldLeft(action)((program, retryAction) =>\n",
    "      program.orElse(retryAction)\n",
    "    )\n",
    "}\n",
    "\n",
    "// ハードコーディング\n",
    "def lastRates(from: Currency, to: Currency): IO[List[BigDecimal]] = {\n",
    "  for {\n",
    "    table1 <- retry(exchangeTable(from), 10)\n",
    "    table2 <- retry(exchangeTable(from), 10)\n",
    "    table3 <- retry(exchangeTable(from), 10)\n",
    "    lastTables = List(table1, table2, table3)\n",
    "  } yield lastTables.flatMap(extractSingleCurrencyRate(to))\n",
    "}\n",
    "\n",
    "def exchangeIfTrending(amount: BigDecimal, from: Currency, to: Currency): IO[Option[BigDecimal]] = {\n",
    "  lastRates(from, to).map(rates =>\n",
    "    if (trending(rates)) Some(amount * rates.last) else None\n",
    "  )\n",
    "}\n"
   ]
  },
  {
   "cell_type": "markdown",
   "metadata": {},
   "source": [
    "## 9.18 再帰関数\n",
    "\n",
    "exchangeIfTrendingを修正する"
   ]
  },
  {
   "cell_type": "code",
   "execution_count": 10,
   "metadata": {},
   "outputs": [
    {
     "data": {
      "text/plain": [
       "defined \u001b[32mfunction\u001b[39m \u001b[36mexchangeIfTrending\u001b[39m"
      ]
     },
     "execution_count": 10,
     "metadata": {},
     "output_type": "execute_result"
    }
   ],
   "source": [
    "def exchangeIfTrending(amount: BigDecimal, from: Currency, to: Currency): IO[BigDecimal] = {\n",
    "  for {\n",
    "    rates <- lastRates(from, to)\n",
    "    result <- if (trending(rates))\n",
    "                IO.pure(amount * rates.last)\n",
    "              else exchangeIfTrending(amount, from, to)\n",
    "  } yield result\n",
    "}\n"
   ]
  },
  {
   "cell_type": "markdown",
   "metadata": {},
   "source": [
    "## 9.23 コーヒーブレイク: 再帰と無限"
   ]
  },
  {
   "cell_type": "code",
   "execution_count": 11,
   "metadata": {},
   "outputs": [
    {
     "data": {
      "text/plain": [
       "defined \u001b[32mfunction\u001b[39m \u001b[36mcurrencyRate\u001b[39m"
      ]
     },
     "execution_count": 11,
     "metadata": {},
     "output_type": "execute_result"
    }
   ],
   "source": [
    "def currencyRate(from: Currency, to: Currency): IO[BigDecimal] = {\n",
    "  for {\n",
    "    table <- retry(exchangeTable(from), 10)\n",
    "    rate <- extractSingleCurrencyRate(to)(table) match {\n",
    "      case Some(value) => IO.pure(value)\n",
    "      case None        => currencyRate(from, to)\n",
    "    }\n",
    "  } yield rate\n",
    "}\n"
   ]
  },
  {
   "cell_type": "code",
   "execution_count": 12,
   "metadata": {},
   "outputs": [
    {
     "data": {
      "text/plain": [
       "defined \u001b[32mfunction\u001b[39m \u001b[36mlastRates\u001b[39m"
      ]
     },
     "execution_count": 12,
     "metadata": {},
     "output_type": "execute_result"
    }
   ],
   "source": [
    "def lastRates(from: Currency, to: Currency, n: Int): IO[List[BigDecimal]] = {\n",
    "  List.range(0, n).map(_ => currencyRate(from, to)).sequence\n",
    "}\n"
   ]
  },
  {
   "cell_type": "code",
   "execution_count": 13,
   "metadata": {},
   "outputs": [
    {
     "data": {
      "text/plain": [
       "defined \u001b[32mfunction\u001b[39m \u001b[36mexchangeIfTrending\u001b[39m\r\n",
       "\u001b[36mres13_1\u001b[39m: \u001b[32mIO\u001b[39m[\u001b[32mBigDecimal\u001b[39m] = \u001b[33mFlatMap\u001b[39m(\n",
       "  ioe = \u001b[33mMap\u001b[39m(\n",
       "    ioe = \u001b[33mMap\u001b[39m(\n",
       "      ioe = \u001b[33mFlatMap\u001b[39m(\n",
       "        ioe = \u001b[33mFlatMap\u001b[39m(\n",
       "          ioe = \u001b[33mHandleErrorWith\u001b[39m(\n",
       "            ioa = \u001b[33mHandleErrorWith\u001b[39m(\n",
       "              ioa = \u001b[33mHandleErrorWith\u001b[39m(\n",
       "                ioa = \u001b[33mHandleErrorWith\u001b[39m(\n",
       "                  ioa = \u001b[33mHandleErrorWith\u001b[39m(\n",
       "                    ioa = \u001b[33mHandleErrorWith\u001b[39m(\n",
       "                      ioa = \u001b[33mHandleErrorWith\u001b[39m(\n",
       "                        ioa = \u001b[33mHandleErrorWith\u001b[39m(\n",
       "                          ioa = \u001b[33mHandleErrorWith\u001b[39m(\n",
       "                            ioa = \u001b[33mHandleErrorWith\u001b[39m(\n",
       "                              ioa = \u001b[33mMap\u001b[39m(\n",
       "                                ioe = \u001b[33mDelay\u001b[39m(\n",
       "                                  thunk = ammonite.$sess.cell8$Helper$$Lambda$3715/0x0000000801692eb0@2b6533d6,\n",
       "                                  event = cats.effect.tracing.TracingEvent$StackTrace\n",
       "                                ),\n",
       "                                f = ammonite.$sess.cell8$Helper$$Lambda$3717/0x0000000801693948@457f8e9d,\n",
       "                                event = cats.effect.tracing.TracingEvent$StackTrace\n",
       "                              ),\n",
       "                              f = cats.syntax.ApplicativeErrorOps$$$Lambda$3721/0x0000000801694d40@1cb5c6f7,\n",
       "                              event = cats.effect.tracing.TracingEvent$StackTrace\n",
       "                            ),\n",
       "                            f = cats.syntax.ApplicativeErrorOps$$$Lambda$3721/0x0000000801694d40@3f46a9a3,\n",
       "                            event = cats.effect.tracing.TracingEvent$StackTrace\n",
       "                          ),\n",
       "                          f = cats.syntax.ApplicativeErrorOps$$$Lambda$3721/0x0000000801694d40@cee1971,\n",
       "                          event = cats.effect.tracing.TracingEvent$StackTrace\n",
       "..."
      ]
     },
     "execution_count": 13,
     "metadata": {},
     "output_type": "execute_result"
    }
   ],
   "source": [
    "\n",
    "def exchangeIfTrending(amount: BigDecimal, from: Currency, to: Currency): IO[BigDecimal] = {\n",
    "  for {\n",
    "    rates <- lastRates(from, to, 3)\n",
    "    result <- if (trending(rates))\n",
    "                IO.pure(amount * rates.last)\n",
    "              else exchangeIfTrending(amount, from, to)\n",
    "  } yield result\n",
    "}\n",
    "\n",
    "exchangeIfTrending(BigDecimal(1000), Currency(\"USD\"), Currency(\"EUR\"))\n"
   ]
  },
  {
   "cell_type": "markdown",
   "metadata": {},
   "source": [
    "# 9.28 データストリームの導入\n",
    "\n",
    "無限実行の可能性がある場合たいていストリームを使うことになる\n",
    "\n",
    "~~1. IOだけを使う~~  \n",
    "~~2. 再帰でIOを使う~~  \n",
    "3. StreamでIOを使う"
   ]
  },
  {
   "cell_type": "markdown",
   "metadata": {},
   "source": [
    "## 9.31 ストリームの処理、プロデューサ、コンシューマ\n",
    "\n",
    "プロデューサ/コンシューマパターン(p.344を見よ)\n"
   ]
  },
  {
   "cell_type": "markdown",
   "metadata": {},
   "source": [
    "## 9.40 実習: ストリーム処理"
   ]
  },
  {
   "cell_type": "code",
   "execution_count": 14,
   "metadata": {},
   "outputs": [
    {
     "data": {
      "text/plain": [
       "\u001b[32mimport \u001b[39m\u001b[36m$ivy.$                                 \n",
       "\u001b[39m\r\n",
       "\u001b[32mimport \u001b[39m\u001b[36m$ivy.$                       \n",
       "\n",
       "\u001b[39m\r\n",
       "\u001b[32mimport \u001b[39m\u001b[36mcats.effect._\n",
       "\u001b[39m\r\n",
       "\u001b[32mimport \u001b[39m\u001b[36mfs2.Stream\n",
       "\n",
       "\u001b[39m\r\n",
       "defined \u001b[32mfunction\u001b[39m \u001b[36mcastTheDieImpure\u001b[39m\r\n",
       "defined \u001b[32mfunction\u001b[39m \u001b[36mcastTheDie\u001b[39m\r\n",
       "\u001b[36minfiniteDieCasts\u001b[39m: \u001b[32mStream\u001b[39m[fs2.Stream[[A >: scala.Nothing <: scala.Any] => _root_.cats.effect.IO[A], scala.Int], \u001b[32mInt\u001b[39m] = Stream(..)\r\n",
       "\u001b[36mres14_7\u001b[39m: \u001b[32mIO\u001b[39m[\u001b[32mList\u001b[39m[\u001b[32mBoolean\u001b[39m]] = \u001b[33mFlatMap\u001b[39m(\n",
       "  ioe = \u001b[33mPure\u001b[39m(value = ()),\n",
       "  f = fs2.Stream$CompileOps$$Lambda$3789/0x00000008016d5418@7307c336,\n",
       "  event = cats.effect.tracing.TracingEvent$StackTrace\n",
       ")\r\n",
       "\u001b[36mres14_8\u001b[39m: \u001b[32mIO\u001b[39m[\u001b[32mList\u001b[39m[\u001b[32mInt\u001b[39m]] = \u001b[33mFlatMap\u001b[39m(\n",
       "  ioe = \u001b[33mPure\u001b[39m(value = ()),\n",
       "  f = fs2.Stream$CompileOps$$Lambda$3789/0x00000008016d5418@38bdb891,\n",
       "  event = cats.effect.tracing.TracingEvent$StackTrace\n",
       ")\r\n",
       "\u001b[36mres14_9\u001b[39m: \u001b[32mIO\u001b[39m[\u001b[32mInt\u001b[39m] = \u001b[33mMap\u001b[39m(\n",
       "  ioe = \u001b[33mFlatMap\u001b[39m(\n",
       "    ioe = \u001b[33mPure\u001b[39m(value = ()),\n",
       "    f = fs2.Stream$CompileOps$$Lambda$3789/0x00000008016d5418@79c8f64,\n",
       "    event = cats.effect.tracing.TracingEvent$StackTrace\n",
       "  ),\n",
       "  f = ammonite.$sess.cell14$Helper$$Lambda$3791/0x00000008016d5bc0@1a763a97,\n",
       "  event = cats.effect.tracing.TracingEvent$StackTrace\n",
       ")\r\n",
       "\u001b[36mres14_10\u001b[39m: \u001b[32mIO\u001b[39m[\u001b[32mList\u001b[39m[\u001b[32mInt\u001b[39m]] = \u001b[33mFlatMap\u001b[39m(\n",
       "  ioe = \u001b[33mPure\u001b[39m(value = ()),\n",
       "  f = fs2.Stream$CompileOps$$Lambda$3789/0x00000008016d5418@266faf7c,\n",
       "  event = cats.effect.tracing.TracingEvent$StackTrace\n",
       ")\r\n",
       "\u001b[36mres14_11\u001b[39m: \u001b[32mIO\u001b[39m[\u001b[32mUnit\u001b[39m] = \u001b[33mUncancelable\u001b[39m(\n",
       "  body = cats.effect.IO$$$Lambda$3812/0x00000008016dc1b8@70ca5ed0,\n",
       "  event = cats.effect.tracing.TracingEvent$StackTrace\n",
       ")\r\n",
       "\u001b[36mres14_12\u001b[39m: \u001b[32mIO\u001b[39m[\u001b[32mList\u001b[39m[\u001b[32mInt\u001b[39m]] = \u001b[33mFlatMap\u001b[39m(\n",
       "  ioe = \u001b[33mPure\u001b[39m(value = ()),\n",
       "  f = fs2.Stream$CompileOps$$Lambda$3789/0x00000008016d5418@47ef4e1b,\n",
       "  event = cats.effect.tracing.TracingEvent$StackTrace\n",
       ")\r\n",
       "\u001b[36mres14_13\u001b[39m: \u001b[32mIO\u001b[39m[\u001b[32mList\u001b[39m[\u001b[32mInt\u001b[39m]] = \u001b[33mFlatMap\u001b[39m(\n",
       "  ioe = \u001b[33mPure\u001b[39m(value = ()),\n",
       "  f = fs2.Stream$CompileOps$$Lambda$3789/0x00000008016d5418@6ff4982,\n",
       "  event = cats.effect.tracing.TracingEvent$StackTrace\n",
       ")"
      ]
     },
     "execution_count": 14,
     "metadata": {},
     "output_type": "execute_result"
    }
   ],
   "source": [
    "import $ivy.`org.typelevel::cats-effect:3.2.9`\n",
    "import $ivy.`co.fs2::fs2-core:3.1.2`\n",
    "\n",
    "import cats.effect._\n",
    "import fs2.Stream\n",
    "\n",
    "def castTheDieImpure(): Int = ???\n",
    "def castTheDie(): IO[Int] = IO.delay(castTheDieImpure())\n",
    "val infiniteDieCasts: Stream[IO, Int] = Stream.eval(castTheDie()).repeat\n",
    "\n",
    "// 1. 奇数をフィルタリングし、最初の3つの奇数を返す\n",
    "infiniteDieCasts.map(_ % 2 != 0).take(3).compile.toList\n",
    "\n",
    "// 2. サイコロを振って最初の5つ目を返すが、6の目はすべて2倍にする\n",
    "// (したがって、[1, 2, 3, 6, 4]は[1, 2, 3, 12, 4]になる)。\n",
    "infiniteDieCasts.take(5).map(x => if (x == 6) x * 2 else x).compile.toList\n",
    "\n",
    "// 3. 最初の3つの目の合計を返す\n",
    "infiniteDieCasts.take(3).compile.toList.map(_.sum)\n",
    "\n",
    "// 4. 5が出るまでサイコロを降ってから、さらに2回サイコロを振り、最後の3つの結果(5とさらに2つの目)を返す\n",
    "infiniteDieCasts.filter(_ == 5).take(1).append(infiniteDieCasts.take(2)).compile.toList\n",
    "\n",
    "//5. サイコロを100回振り、それらの値が排出されるようにする\n",
    "infiniteDieCasts.take(100).compile.drain\n",
    "\n",
    "// 6. 最初の3つの目を変更せずにそのまま返し、次の3つの目を3倍にして返す(合計6つの目)\n",
    "infiniteDieCasts.take(3).append(infiniteDieCasts.take(3).map(_ * 3)).compile.toList\n",
    "\n",
    "// 7. 6が2回連続で出るまでサイコロを振る\n",
    "infiniteDieCasts.scan(0)((sixesInRow, current) =>\n",
    "  if (current == 6) sixesInRow + 1 else 0)\n",
    "  .filter(_ == 2).take(1).compile.toList\n"
   ]
  },
  {
   "cell_type": "code",
   "execution_count": 15,
   "metadata": {},
   "outputs": [
    {
     "data": {
      "text/plain": [
       "defined \u001b[32mfunction\u001b[39m \u001b[36mrates\u001b[39m"
      ]
     },
     "execution_count": 15,
     "metadata": {},
     "output_type": "execute_result"
    }
   ],
   "source": [
    "def rates(from: Currency, to: Currency): Stream[IO, BigDecimal] = {\n",
    "  Stream\n",
    "    .eval(exchangeTable(from))\n",
    "    .repeat\n",
    "    .map(extractSingleCurrencyRate(to))\n",
    "    .unNone\n",
    "    .orElse(rates(from, to))\n",
    "}\n"
   ]
  },
  {
   "cell_type": "code",
   "execution_count": 16,
   "metadata": {},
   "outputs": [
    {
     "data": {
      "text/plain": [
       "defined \u001b[32mfunction\u001b[39m \u001b[36mexchangeIfTrending\u001b[39m"
      ]
     },
     "execution_count": 16,
     "metadata": {},
     "output_type": "execute_result"
    }
   ],
   "source": [
    "// ratesストリームを使ってexchangeIfTrendingをアップデート\n",
    "def exchangeIfTrending(amount: BigDecimal, from: Currency, to: Currency): IO[BigDecimal] = {\n",
    "  rates(from, to)\n",
    "    .sliding(3)\n",
    "    .map(_.toList)\n",
    "    .filter(trending)\n",
    "    .map(_.last)\n",
    "    .take(1)\n",
    "    .compile\n",
    "    .lastOrError\n",
    "    .map(_ * amount)\n",
    "}\n"
   ]
  },
  {
   "cell_type": "markdown",
   "metadata": {},
   "source": [
    "## 9.46 IO呼び出しの間で待機する"
   ]
  },
  {
   "cell_type": "code",
   "execution_count": 17,
   "metadata": {},
   "outputs": [
    {
     "data": {
      "text/plain": [
       "\u001b[32mimport \u001b[39m\u001b[36mscala.concurrent.duration._\n",
       "\u001b[39m\r\n",
       "\u001b[32mimport \u001b[39m\u001b[36mjava.util.concurrent.TimeUnit\n",
       "\n",
       "// 待機のためにStream.fixedRateを使う\n",
       "\u001b[39m\r\n",
       "\u001b[36mdelay\u001b[39m: \u001b[32mFiniteDuration\u001b[39m = 1 second\r\n",
       "\u001b[36mticks\u001b[39m: \u001b[32mStream\u001b[39m[_root_.fs2.Stream[[A >: scala.Nothing <: scala.Any] => _root_.cats.effect.IO[A], scala.Unit], \u001b[32mUnit\u001b[39m] = Stream(..)"
      ]
     },
     "execution_count": 17,
     "metadata": {},
     "output_type": "execute_result"
    }
   ],
   "source": [
    "import scala.concurrent.duration._\n",
    "import java.util.concurrent.TimeUnit\n",
    "\n",
    "// 待機のためにStream.fixedRateを使う\n",
    "val delay: FiniteDuration = FiniteDuration(1, TimeUnit.SECONDS)\n",
    "val ticks: Stream[IO, Unit] = Stream.fixedRate[IO](delay)\n"
   ]
  },
  {
   "cell_type": "markdown",
   "metadata": {},
   "source": [
    "> IOベースのプログラムは、実行時はフェアプレイに徹し、必要なとき以外はスレッドプールのスレッドを使わない。(p.360)\n",
    "\n",
    "delayもticksも単なる値なので、スレッドプールのことを考えずに済む。"
   ]
  },
  {
   "cell_type": "code",
   "execution_count": 18,
   "metadata": {},
   "outputs": [
    {
     "data": {
      "text/plain": [
       "\u001b[32mimport \u001b[39m\u001b[36mcats.effect.unsafe.implicits.global\n",
       "\n",
       "\u001b[39m\r\n",
       "\u001b[36mfirstThreeRates\u001b[39m: \u001b[32mIO\u001b[39m[\u001b[32mList\u001b[39m[(\u001b[32mBigDecimal\u001b[39m, \u001b[32mUnit\u001b[39m)]] = \u001b[33mFlatMap\u001b[39m(\n",
       "  ioe = \u001b[33mPure\u001b[39m(value = ()),\n",
       "  f = fs2.Stream$CompileOps$$Lambda$3789/0x00000008016d5418@7020d833,\n",
       "  event = cats.effect.tracing.TracingEvent$StackTrace\n",
       ")"
      ]
     },
     "execution_count": 18,
     "metadata": {},
     "output_type": "execute_result"
    }
   ],
   "source": [
    "import cats.effect.unsafe.implicits.global\n",
    "\n",
    "val firstThreeRates: IO[List[(BigDecimal, Unit)]] =\n",
    "  rates(Currency(\"USD\"), Currency(\"EUR\"))\n",
    "    .zip(ticks).take(3).compile.toList\n",
    "\n",
    "// firstThreeRates.unsafeRunSync()\n"
   ]
  },
  {
   "cell_type": "markdown",
   "metadata": {},
   "source": [
    "## 9.47 ストリームをzipする\n",
    "\n",
    "待機のために2つのストリームをzipしたが、両方の要素に関心があるわけではない。  \n",
    "そのような場合はzipLeft(zipRight)を使うことができる。  "
   ]
  },
  {
   "cell_type": "code",
   "execution_count": 19,
   "metadata": {},
   "outputs": [
    {
     "data": {
      "text/plain": [
       "\u001b[36mfirstThreeRates\u001b[39m: \u001b[32mIO\u001b[39m[\u001b[32mList\u001b[39m[\u001b[32mBigDecimal\u001b[39m]] = \u001b[33mFlatMap\u001b[39m(\n",
       "  ioe = \u001b[33mPure\u001b[39m(value = ()),\n",
       "  f = fs2.Stream$CompileOps$$Lambda$3789/0x00000008016d5418@5308bde8,\n",
       "  event = cats.effect.tracing.TracingEvent$StackTrace\n",
       ")"
      ]
     },
     "execution_count": 19,
     "metadata": {},
     "output_type": "execute_result"
    }
   ],
   "source": [
    "// zipLeftを使ってfirstThreeRatesをアップデート\n",
    "val firstThreeRates: IO[List[(BigDecimal)]] =\n",
    "  rates(Currency(\"USD\"), Currency(\"EUR\"))\n",
    "    .zipLeft(ticks).take(3).compile.toList\n"
   ]
  },
  {
   "cell_type": "code",
   "execution_count": 20,
   "metadata": {},
   "outputs": [
    {
     "data": {
      "text/plain": [
       "defined \u001b[32mfunction\u001b[39m \u001b[36mexchangeIfTrending\u001b[39m"
      ]
     },
     "execution_count": 20,
     "metadata": {},
     "output_type": "execute_result"
    }
   ],
   "source": [
    "// zipLeftを使用してexchangeIfTrendingをアップデート\n",
    "def exchangeIfTrending(amount: BigDecimal, from: Currency, to: Currency): IO[BigDecimal] = {\n",
    "  rates(from, to)\n",
    "    .zipLeft(ticks)\n",
    "    .sliding(3)\n",
    "    .map(_.toList)\n",
    "    .filter(trending)\n",
    "    .map(_.last)\n",
    "    .take(1)\n",
    "    .compile\n",
    "    .lastOrError\n",
    "    .map(_ * amount)\n",
    "}\n"
   ]
  },
  {
   "cell_type": "markdown",
   "metadata": {},
   "source": [
    "## 9.48 ストリームベースのアプローチを使うことの利点\n",
    "\n",
    "- **ストリームの定義がそれを使う場所から切り離されている**\n",
    "  - つまり、その定義は無限かもしれず、実際に必要な要素の数は呼び出し元が定義する\n",
    "- **本当に必要になるまで何も行われない**\n",
    "  - すべての演算が遅延評価される\n",
    "- **高レベルのAPIのおかげで、実装上の詳細ではなくビジネスドメインに集中できる**\n",
    "  - 本質的な複雑さと付随的な複雑さのもう1つの例である\n",
    "- **関心事がより分離される**\n",
    "  - Streamのコンビネータに引数として渡される関数は、それらがストリームの中で使われることを知らない\n",
    "- **合成可能性**\n",
    "  - 開発者は独立した小さな部品を理解してから、それらの部分の結び付きを理解することで、  \n",
    "    より大きな機能を分析することができる\n",
    "- **非同期の境界のカプセル化**\n",
    "  - 潜在的に異なるコンピュータ(ノード)で多くのストリームを同時に実行し、  \n",
    "    より大きなストリームを使って結果を結合することも、実装上の詳細(付随的な関心事)である。  \n",
    "    このようにして、ノード間の境界を超えて結果を同期することに関する詳細をすべてカプセル化できる。"
   ]
  }
 ],
 "metadata": {
  "kernelspec": {
   "display_name": "Scala",
   "language": "scala",
   "name": "scala"
  },
  "language_info": {
   "codemirror_mode": "text/x-scala",
   "file_extension": ".sc",
   "mimetype": "text/x-scala",
   "name": "scala",
   "nbconvert_exporter": "script",
   "version": "2.13.11"
  }
 },
 "nbformat": 4,
 "nbformat_minor": 2
}
