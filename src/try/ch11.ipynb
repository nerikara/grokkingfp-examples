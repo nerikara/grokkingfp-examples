{
 "cells": [
  {
   "cell_type": "markdown",
   "metadata": {},
   "source": [
    "# 第11章 関数型プログラムを設計する"
   ]
  },
  {
   "cell_type": "markdown",
   "metadata": {},
   "source": [
    "## 11.1 まず動かす、正しく動かす、高速に動かす\n",
    "\n",
    "節タイトルはKent Beckの引用らしい。\n",
    "\n",
    "**要件: ポップカルチャー旅行ガイド**\n",
    "\n",
    "1. このアプリケーションはString型の値を1つだけ受け取る。この値は、ユーザーが訪れたいと考えていて、  \n",
    "   旅行ガイドを必要としている観光名所の検索語である。\n",
    "2. このアプリケーションは観光名所、その説明(説明がある場合)、その地理的位置で検索を行う必要がある。  \n",
    "   人口の多い場所を優先する。\n",
    "3. このアプリケーションは場所を使って次のことを行う:\n",
    "   - この場所出身のアーティストを検索し、ソーシャルメディアのフォロワー数の順に並べる\n",
    "   - この場所を舞台にした映画を検索し、興行収入の順に並べる\n",
    "4. 特定の観光名所とその地にゆかりがあるアーティストと映画から「ポップカルチャー旅行ガイド」を作成し、ユーザーに返す。  \n",
    "   ガイドが他にもある場合は、「スコア」が最も高いものを返す必要がある。  \n",
    "   スコアは次のように計算する:\n",
    "   - 説明は30ポイント\n",
    "   - アーティストまたは映画ごとに10ポイント\n",
    "   - フォロワー10万人につき1ポイント(全アーティストを合わせて。最大15ポイント)\n",
    "   - 興行収入1,000万ごとに1ポイント(すべての映画を合わせて。最大15ポイント)\n",
    "5. 将来的には、さらに多くのポップカルチャーテーマ(ビデオゲームなど)をサポートする予定。\n",
    "\n",
    "```scala\n",
    "// 実行例\n",
    "travelGuideProgram(\"Bridge of Sighs\").unsafeRunSync()\n",
    "// →「溜息橋はベネチアの運河に架かる橋。当地を訪れる前に、Talcoの曲を聴き、\n",
    "// 「スパイダーマン：ファー・フロム・ホーム」や「カジノ・ロワイヤル」など、\n",
    "// ベネチアを舞台とする映画を観てはいかが。」\n",
    "```"
   ]
  },
  {
   "cell_type": "markdown",
   "metadata": {},
   "source": [
    "## 11.2 イミュータブルな値を使ってモデル化する\n",
    "\n",
    "要件が明確に指定されている場合、イミュータブルな値(直積型と直和型、またはADT)を使ったモデル化は非常に簡単である。"
   ]
  },
  {
   "cell_type": "markdown",
   "metadata": {},
   "source": [
    "## 11.3 ビジネスドメインのモデル化と関数型プログラミング"
   ]
  },
  {
   "cell_type": "code",
   "execution_count": 1,
   "metadata": {},
   "outputs": [
    {
     "data": {
      "text/plain": [
       "defined \u001b[32mobject\u001b[39m \u001b[36mmodel\u001b[39m\r\n",
       "\u001b[32mimport \u001b[39m\u001b[36mmodel._, model.PopCultureSubject._\n",
       "\r\n",
       "\u001b[39m"
      ]
     },
     "execution_count": 1,
     "metadata": {},
     "output_type": "execute_result"
    }
   ],
   "source": [
    "object model {\n",
    "  opaque type LocationId = String\n",
    "  object LocationId{\n",
    "    def apply(value: String): LocationId        = value\n",
    "    extension (a: LocationId) def value: String = a\n",
    "  }\n",
    "\n",
    "  case class Location(id: LocationId, name: String, population: Int)\n",
    "  case class Attraction(name: String, description: Option[String], location: Location)\n",
    "\n",
    "  enum PopCultureSubject {\n",
    "    case Artist(name: String, followers: Int)\n",
    "    case Movie(name: String, boxOffice: Int)\n",
    "  }\n",
    "\n",
    "  case class TravelGuide(attraction: Attraction, subjects: List[PopCultureSubject])\n",
    "}\n",
    "\n",
    "import model._, model.PopCultureSubject._\n"
   ]
  },
  {
   "cell_type": "markdown",
   "metadata": {},
   "source": [
    "> なお、ここではアプリケーション全体のすべてのレイヤ(層)で同じモデルを使うことにした。  \n",
    "> しかし、もっと大規模なアプリケーションでは、それぞれの概念をその概念が使われるコンテキストに応じて表現するほうが  \n",
    "> 通常は賢明である(DDDと**境界付きコンテキスト**の概念を確認しておこう)。この場合、  \n",
    "> Artistモデルが意味を持つのはガイドのスコアを計算するコンテキストだけであると言ってよいだろう。  \n",
    "> なぜなら、followersが必要になるのはそのコンテキストだからだ。このクラスは他のコンテキストでも使われるが、  \n",
    "> 最終的なユーザープレゼンテーション(UIなど)では、もう少し単純なアーティストモデルのほうがよいことが想像できる。\n",
    "\n",
    "```scala\n",
    "case class ArtistToListenTo(name: String)\n",
    "```"
   ]
  },
  {
   "cell_type": "markdown",
   "metadata": {},
   "source": [
    "## 11.4 データアクセスをモデル化する"
   ]
  },
  {
   "cell_type": "code",
   "execution_count": 2,
   "metadata": {},
   "outputs": [
    {
     "data": {
      "text/plain": [
       "\u001b[32mimport \u001b[39m\u001b[36m$ivy.$                                 \n",
       "\u001b[39m\r\n",
       "\u001b[32mimport \u001b[39m\u001b[36m$ivy.$                       \n",
       "\n",
       "\u001b[39m\r\n",
       "\u001b[32mimport \u001b[39m\u001b[36mcats.effect._\n",
       "\n",
       "// \"…この場所出身のアーティストを検索…\"\n",
       "\u001b[39m\r\n",
       "defined \u001b[32mfunction\u001b[39m \u001b[36mfindArtistsFromLocation\u001b[39m\r\n",
       "defined \u001b[32mfunction\u001b[39m \u001b[36mfindMoviesAboutLocation\u001b[39m\r\n",
       "defined \u001b[32mfunction\u001b[39m \u001b[36mfindAttractions\u001b[39m\r\n",
       "defined \u001b[32mclass\u001b[39m \u001b[36mAttractionOrdering\u001b[39m\r\n",
       "\u001b[32mimport \u001b[39m\u001b[36mAttractionOrdering._\n",
       "\r\n",
       "\u001b[39m"
      ]
     },
     "execution_count": 2,
     "metadata": {},
     "output_type": "execute_result"
    }
   ],
   "source": [
    "import $ivy.`org.typelevel::cats-effect:3.2.9`\n",
    "import $ivy.`co.fs2::fs2-core:3.1.2`\n",
    "\n",
    "import cats.effect._\n",
    "\n",
    "// \"…この場所出身のアーティストを検索…\"\n",
    "def findArtistsFromLocation(locationId: LocationId, limit: Int): IO[List[Artist]] = ???\n",
    "\n",
    "// \"…この場所を舞台とした映画を検索…\"\n",
    "def findMoviesAboutLocation(locationId: LocationId, limit: Int): IO[List[Movie]] = ???\n",
    "\n",
    "// \"このアプリケーションは特定の観光名所を検索する必要がある…\"\n",
    "def findAttractions(name: String, ordering: AttractionOrdering, limit: Int): IO[List[Attraction]] = ???\n",
    "\n",
    "enum AttractionOrdering {\n",
    "  case ByName\n",
    "  case ByLocationPopulation\n",
    "}\n",
    "import AttractionOrdering._\n"
   ]
  },
  {
   "cell_type": "markdown",
   "metadata": {},
   "source": [
    "## 11.5 BoF\n",
    "\n",
    "> 通常は一緒に使われる一連の関数がある、またはそれらの関数の実装に共通する式がたくさんある場合は、  \n",
    "> それらの関数をより大きな型――いわゆる**BoF**(bag of functions)にまとめたくなるかもしれない。"
   ]
  },
  {
   "cell_type": "code",
   "execution_count": 3,
   "metadata": {},
   "outputs": [
    {
     "data": {
      "text/plain": [
       "defined \u001b[32mtrait\u001b[39m \u001b[36mDataAccess\u001b[39m"
      ]
     },
     "execution_count": 3,
     "metadata": {},
     "output_type": "execute_result"
    }
   ],
   "source": [
    "trait DataAccess {\n",
    "  def findArtistsFromLocation(locationId: LocationId, limit: Int): IO[List[Artist]]\n",
    "  def findMoviesAboutLocation(locationId: LocationId, limit: Int): IO[List[Movie]]\n",
    "  def findAttractions(name: String, ordering: AttractionOrdering, limit: Int): IO[List[Attraction]]\n",
    "}\n",
    "\n",
    "// trait...interfaceみたいなやつ\n"
   ]
  },
  {
   "cell_type": "markdown",
   "metadata": {},
   "source": [
    "直積型とインターフェイスのどちらのバージョンを選択肢たとしても、メリットは同じである。\n",
    "\n",
    "- 3つの関数の値を個別に渡すのではなく、データアクセス機能を必要とする**関数に1つの値を渡す**。  \n",
    "  データアクセスを要求する関数の数が多い場合、この利点はさらに重要となる。そのような場合、  \n",
    "  こうした肥大化したシグネチャは非常に反復的に見えるため、コードが乱雑に見える。\n",
    "- 共通の式を使って**すべての関数を一度に実装する**。\n",
    "\n",
    "> 欠点も少なくとも1つある。多くの関数に適した「共通のアイデンティティ」を見つけ出すのが難しいことだ。  \n",
    "> この場合は「データアクセス」アイデンティティを共有する関数が3つあるため、それほど難しくない。  \n",
    "> しかし、大量の関数が含まれた大規模なプログラムでは、それではうまくいかないだろう。"
   ]
  },
  {
   "cell_type": "markdown",
   "metadata": {},
   "source": [
    "## 11.6 純粋関数としてのビジネスロジック\n",
    "\n",
    "最も単純なバージョンであるIO型の値を返す関数を実装する。"
   ]
  },
  {
   "cell_type": "code",
   "execution_count": 4,
   "metadata": {},
   "outputs": [
    {
     "data": {
      "text/plain": [
       "defined \u001b[32mfunction\u001b[39m \u001b[36mtravelGuide\u001b[39m"
      ]
     },
     "execution_count": 4,
     "metadata": {},
     "output_type": "execute_result"
    }
   ],
   "source": [
    "def travelGuide(data: DataAccess, attractionName: String): IO[Option[TravelGuide]] = {\n",
    "  for {\n",
    "    attractions <- data.findAttractions(attractionName, ByLocationPopulation, 1)\n",
    "    guide       <- attractions.headOption match {\n",
    "                    case None => IO.pure(None)\n",
    "                    case Some(attraction) =>\n",
    "                      for {\n",
    "                        artists <- data.findArtistsFromLocation(attraction.location.id, 2)\n",
    "                        movies  <- data.findMoviesAboutLocation(attraction.location.id, 2)\n",
    "                      } yield Some(TravelGuide(attraction, artists.appendedAll(movies)))\n",
    "                  }\n",
    "  } yield guide\n",
    "}\n"
   ]
  },
  {
   "cell_type": "markdown",
   "metadata": {},
   "source": [
    "## 11.7 現実のデータアクセスでの関心の分離\n",
    "\n",
    "travelGuide関数はDataAccess型の値を使う。この値は、travelGuideが知る必要があるすべての情報を、  \n",
    "内部の詳細をいっさい明かすことなく提供する。  \n",
    "travelGuideを呼び出すには、最初にそのようなDataAccessを作成しなければならない。\n",
    "\n",
    "Wikidataでは、Wikidataが公開しているデータを、SPARQLクエリ言語を使って検索できる。"
   ]
  },
  {
   "cell_type": "markdown",
   "metadata": {},
   "source": [
    "## 11.8 命令型ライブラリとIOを使ってAPIを統合する\n",
    "\n",
    "findAttractionsから実装していく。  \n",
    "この関数を実装する前に、次の3つの問題を解決する必要がある。\n",
    "\n",
    "1. どのようなSPARQLクエリで実装するのか\n",
    "2. Wikidata APIに接続してクエリを実行するにはどうすればよいか\n",
    "3. 返されたレスポンスをList[Attraction]型の値に変換するにはどうすればよいか\n",
    "\n",
    "### 1. SPARQLクエリを作成する\n",
    "\n",
    "特定の名前を含んでいて、名前または人口で並べ替えることができる観光名所を検索したい。  \n",
    "[Wikidata Query Service](https://query.wikidata.org)にアクセスして、そのようなクエリを実装する。\n",
    "\n",
    "### 2. Wikidataサービスに接続し、検索を行う\n",
    "\n",
    "> Apache Jeneは、Wikidataサーバーに接続してクエリを実行するための、  \n",
    "> Javaベースの命令形のクライアントライブラリであり、「セマンティックWebアプリと  \n",
    "> リンクトデータアプリを構築するための、オープンソースのフリーのJavaフレームワーク」  \n",
    "> である。\n",
    "\n",
    "命令型のAPIでも、関数型プログラムに組み込むことができる。\n",
    "\n",
    "### 3. クエリの結果を抽出して解析する\n",
    "\n",
    "コードは本文を参照。\n",
    "\n",
    "命令型のライブラリのコードをIO型の値でラップし、関数型プログラムで安全に使えるようにする必要がある。"
   ]
  },
  {
   "cell_type": "markdown",
   "metadata": {},
   "source": [
    "## 11.9 設計に従う\n",
    "\n",
    "Wikidataでクエリを実行する方法がわかったので関数型プログラムに組み込んでいく。  \n",
    "**DataAccess内で定義された3つの関数を実装する必要がある。それらは内部でApache Jenaを使う。**"
   ]
  },
  {
   "cell_type": "markdown",
   "metadata": {},
   "source": [
    "## 11.10 入力アクションをIO型の値として実装する"
   ]
  },
  {
   "cell_type": "code",
   "execution_count": 4,
   "metadata": {},
   "outputs": [
    {
     "name": "stderr",
     "output_type": "stream",
     "text": [
      "Downloading https://repo1.maven.org/maven2/org/apache/jena/jena-sparql-expr-arq/3.17.0/jena-sparql-expr-arq-3.17.0.pom\n",
      "Downloaded https://repo1.maven.org/maven2/org/apache/jena/jena-sparql-expr-arq/3.17.0/jena-sparql-expr-arq-3.17.0.pom\n",
      "Downloading https://repo1.maven.org/maven2/org/apache/jena/jena-sparql-expr-arq/3.17.0/jena-sparql-expr-arq-3.17.0.pom.sha1\n",
      "Downloaded https://repo1.maven.org/maven2/org/apache/jena/jena-sparql-expr-arq/3.17.0/jena-sparql-expr-arq-3.17.0.pom.sha1\n",
      "Downloading https://jitpack.io/org/apache/jena/jena-sparql-expr-arq/3.17.0/jena-sparql-expr-arq-3.17.0.pom\n",
      "Downloaded https://jitpack.io/org/apache/jena/jena-sparql-expr-arq/3.17.0/jena-sparql-expr-arq-3.17.0.pom\n",
      "Downloading https://jitpack.io/org/apache/jena/jena-sparql-expr-arq/3.17.0/jena-sparql-expr-arq-3.17.0.pom.sha1\n",
      "Downloaded https://jitpack.io/org/apache/jena/jena-sparql-expr-arq/3.17.0/jena-sparql-expr-arq-3.17.0.pom.sha1\n",
      "Failed to resolve ivy dependencies:Error downloading org.apache.jena:jena-sparql-expr-arq:3.17.0\n",
      "  not found: C:\\Users\\nerik\\.ivy2\\local\\org.apache.jena\\jena-sparql-expr-arq\\3.17.0\\ivys\\ivy.xml\n",
      "  not found: https://repo1.maven.org/maven2/org/apache/jena/jena-sparql-expr-arq/3.17.0/jena-sparql-expr-arq-3.17.0.pom\n",
      "  not found: https://jitpack.io/org/apache/jena/jena-sparql-expr-arq/3.17.0/jena-sparql-expr-arq-3.17.0.pom"
     ]
    }
   ],
   "source": [
    "import $ivy.`org.apache.jena:jena-arq:3.17.0`\n",
    "import $ivy.`org.apache.jena:jena-core:3.17.0`\n",
    "import $ivy.`org.apache.jena:jena-iri:3.17.0`\n",
    "import $ivy.`org.apache.jena:jena-shaded-guava:3.17.0`\n",
    "import $ivy.`org.apache.jena:jena-sparql-expr-arq:3.17.0`   // 依存関係を解消できない…\n",
    "import $ivy.`org.apache.jena:jena-tdb:3.17.0`\n",
    "import $ivy.`org.apache.jena:jena-tdb2:3.17.0`\n",
    "import $ivy.`org.apache.jena:apache-jena-libs:3.17.0`\n",
    "import org.apache.jena.query._\n",
    "import org.apache.jena.rdfconnection._\n",
    "\n",
    "val getConnection: IO[RDFConnection] = IO.delay(\n",
    "  RDFConnectionRemote.create\n",
    "    .destination(\"https://query.wikidata.org/\")\n",
    "    .queryEndpoint(\"sparql\").build\n",
    ")\n"
   ]
  }
 ],
 "metadata": {
  "kernelspec": {
   "display_name": "Scala",
   "language": "scala",
   "name": "scala"
  },
  "language_info": {
   "codemirror_mode": "text/x-scala",
   "file_extension": ".sc",
   "mimetype": "text/x-scala",
   "name": "scala",
   "nbconvert_exporter": "script",
   "version": "2.13.11"
  }
 },
 "nbformat": 4,
 "nbformat_minor": 2
}
