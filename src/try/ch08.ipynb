{
 "cells": [
  {
   "cell_type": "markdown",
   "id": "15f56fcb-6ae3-4024-bce2-878fb2fad8e3",
   "metadata": {},
   "source": [
    "# 第8章 値としてのIO"
   ]
  },
  {
   "cell_type": "code",
   "execution_count": 1,
   "id": "c9d227b9-c073-4064-b2e4-c4dd03423b3c",
   "metadata": {},
   "outputs": [
    {
     "data": {
      "text/plain": [
       "defined \u001b[32mclass\u001b[39m \u001b[36mMeetingTime\u001b[39m"
      ]
     },
     "execution_count": 1,
     "metadata": {},
     "output_type": "execute_result"
    }
   ],
   "source": [
    "case class MeetingTime(startHour: Int, endHour: Int)\n"
   ]
  },
  {
   "cell_type": "code",
   "execution_count": 7,
   "id": "7373195c-eada-4871-93b3-5bd867644d71",
   "metadata": {},
   "outputs": [
    {
     "data": {
      "text/plain": [
       "defined \u001b[32mfunction\u001b[39m \u001b[36mcalendarEntriesApiCall\u001b[39m"
      ]
     },
     "execution_count": 7,
     "metadata": {},
     "output_type": "execute_result"
    }
   ],
   "source": [
    "// 副作用を持つAPI呼び出し\n",
    "def calendarEntriesApiCall(name: String): List[MeetingTime]\n",
    "import ch_08SchedulingMeetings.calendarEntriesApiCall\n",
    "// jupyter notebook上ではimportできないのでsbt console上で実行する必要がある\n"
   ]
  },
  {
   "cell_type": "code",
   "execution_count": 3,
   "id": "6cf99890",
   "metadata": {},
   "outputs": [
    {
     "data": {
      "text/plain": [
       "defined \u001b[32mfunction\u001b[39m \u001b[36mcreateMeetingApiCall\u001b[39m"
      ]
     },
     "execution_count": 3,
     "metadata": {},
     "output_type": "execute_result"
    }
   ],
   "source": [
    "// 副作用を持つAPI呼び出し\n",
    "def createMeetingApiCall(names: List[String], meetingTime: MeetingTime): Unit\n",
    "import ch_08SchedulingMeetings.createMeetingApiCall\n",
    "// jupyter notebook上ではimportできないのでsbt console上で実行する必要がある\n"
   ]
  },
  {
   "cell_type": "code",
   "execution_count": 4,
   "id": "b760360a",
   "metadata": {},
   "outputs": [
    {
     "data": {
      "text/plain": [
       "\u001b[32mimport \u001b[39m\u001b[36m$ivy.$                                 \n",
       "\u001b[39m\r\n",
       "\u001b[32mimport \u001b[39m\u001b[36mcats.effect._\n",
       "\n",
       "\u001b[39m\r\n",
       "defined \u001b[32mfunction\u001b[39m \u001b[36mcalendarEntries\u001b[39m"
      ]
     },
     "execution_count": 4,
     "metadata": {},
     "output_type": "execute_result"
    }
   ],
   "source": [
    "import $ivy.`org.typelevel::cats-effect:3.3.1`\n",
    "import cats.effect._\n",
    "\n",
    "def calendarEntries(name: String): IO[List[MeetingTime]] = {\n",
    "  IO.delay(calendarEntriesApiCall(name));\n",
    "}\n"
   ]
  },
  {
   "cell_type": "code",
   "execution_count": null,
   "id": "fe01e694",
   "metadata": {},
   "outputs": [],
   "source": []
  }
 ],
 "metadata": {
  "kernelspec": {
   "display_name": "Scala",
   "language": "scala",
   "name": "scala"
  },
  "language_info": {
   "codemirror_mode": "text/x-scala",
   "file_extension": ".sc",
   "mimetype": "text/x-scala",
   "name": "scala",
   "nbconvert_exporter": "script",
   "version": "2.13.11"
  }
 },
 "nbformat": 4,
 "nbformat_minor": 5
}
