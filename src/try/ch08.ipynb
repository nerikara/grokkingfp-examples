{
 "cells": [
  {
   "cell_type": "markdown",
   "id": "15f56fcb-6ae3-4024-bce2-878fb2fad8e3",
   "metadata": {},
   "source": [
    "# 第8章 値としてのIO"
   ]
  },
  {
   "cell_type": "code",
   "execution_count": 1,
   "id": "c9d227b9-c073-4064-b2e4-c4dd03423b3c",
   "metadata": {},
   "outputs": [
    {
     "data": {
      "text/plain": [
       "defined \u001b[32mclass\u001b[39m \u001b[36mMeetingTime\u001b[39m"
      ]
     },
     "execution_count": 1,
     "metadata": {},
     "output_type": "execute_result"
    }
   ],
   "source": [
    "case class MeetingTime(startHour: Int, endHour: Int)\n"
   ]
  },
  {
   "cell_type": "code",
   "execution_count": 2,
   "id": "7373195c-eada-4871-93b3-5bd867644d71",
   "metadata": {},
   "outputs": [
    {
     "data": {
      "text/plain": [
       "defined \u001b[32mfunction\u001b[39m \u001b[36mcalendarEntriesApiCall\u001b[39m"
      ]
     },
     "execution_count": 2,
     "metadata": {},
     "output_type": "execute_result"
    }
   ],
   "source": [
    "// 副作用を持つAPI呼び出し\n",
    "def calendarEntriesApiCall(name: String): List[MeetingTime] = ???\n",
    "// import ch_08SchedulingMeetings.calendarEntriesApiCall\n",
    "// jupyter notebook上ではimportできないのでsbt console上で実行する必要がある\n"
   ]
  },
  {
   "cell_type": "code",
   "execution_count": 3,
   "id": "6cf99890",
   "metadata": {},
   "outputs": [
    {
     "data": {
      "text/plain": [
       "defined \u001b[32mfunction\u001b[39m \u001b[36mcreateMeetingApiCall\u001b[39m"
      ]
     },
     "execution_count": 3,
     "metadata": {},
     "output_type": "execute_result"
    }
   ],
   "source": [
    "// 副作用を持つAPI呼び出し\n",
    "def createMeetingApiCall(names: List[String], meetingTime: MeetingTime): Unit = ???\n",
    "// import ch_08SchedulingMeetings.createMeetingApiCall\n",
    "// jupyter notebook上ではimportできないのでsbt console上で実行する必要がある\n"
   ]
  },
  {
   "cell_type": "code",
   "execution_count": 4,
   "id": "b760360a",
   "metadata": {},
   "outputs": [
    {
     "data": {
      "text/plain": [
       "\u001b[32mimport \u001b[39m\u001b[36m$ivy.$                                 \n",
       "\u001b[39m\r\n",
       "\u001b[32mimport \u001b[39m\u001b[36mcats.effect._\n",
       "\n",
       "\u001b[39m\r\n",
       "defined \u001b[32mfunction\u001b[39m \u001b[36mcalendarEntries\u001b[39m"
      ]
     },
     "execution_count": 4,
     "metadata": {},
     "output_type": "execute_result"
    }
   ],
   "source": [
    "import $ivy.`org.typelevel::cats-effect:3.3.1`\n",
    "import cats.effect._\n",
    "\n",
    "def calendarEntries(name: String): IO[List[MeetingTime]] = {\n",
    "  IO.delay(calendarEntriesApiCall(name));\n",
    "}\n"
   ]
  },
  {
   "cell_type": "code",
   "execution_count": 5,
   "id": "6ef9a40b",
   "metadata": {},
   "outputs": [
    {
     "data": {
      "text/plain": [
       "defined \u001b[32mfunction\u001b[39m \u001b[36mscheduledMeetings\u001b[39m"
      ]
     },
     "execution_count": 5,
     "metadata": {},
     "output_type": "execute_result"
    }
   ],
   "source": [
    "def scheduledMeetings(person1: String, person2: String): IO[List[MeetingTime]] = {\n",
    "  for {\n",
    "    person1Entries <- calendarEntries(person1)\n",
    "    person2Entries <- calendarEntries(person2)\n",
    "  } yield person1Entries.appendedAll(person2Entries)\n",
    "}\n"
   ]
  },
  {
   "cell_type": "code",
   "execution_count": 6,
   "id": "19f33b9b",
   "metadata": {},
   "outputs": [
    {
     "data": {
      "text/plain": [
       "defined \u001b[32mfunction\u001b[39m \u001b[36mmeetingsOverlap\u001b[39m"
      ]
     },
     "execution_count": 6,
     "metadata": {},
     "output_type": "execute_result"
    }
   ],
   "source": [
    "def meetingsOverlap(meeting1: MeetingTime, meeting2: MeetingTime): Boolean = {\n",
    "  meeting1.endHour > meeting2.startHour && meeting2.endHour > meeting1.startHour\n",
    "}\n"
   ]
  },
  {
   "cell_type": "code",
   "execution_count": 7,
   "id": "fe01e694",
   "metadata": {},
   "outputs": [
    {
     "data": {
      "text/plain": [
       "defined \u001b[32mfunction\u001b[39m \u001b[36mpossibleMeetings\u001b[39m"
      ]
     },
     "execution_count": 7,
     "metadata": {},
     "output_type": "execute_result"
    }
   ],
   "source": [
    "def possibleMeetings(existingMeetings: List[MeetingTime], startHour: Int, endHour: Int, lengthHours: Int): List[MeetingTime] = {\n",
    "  val slots = List\n",
    "      .range(startHour, endHour - lengthHours + 1)\n",
    "      .map(startHour => MeetingTime(startHour, startHour + lengthHours))\n",
    "\n",
    "  slots.filter(slot =>\n",
    "    existingMeetings.forall(meeting => !meetingsOverlap(meeting, slot)))\n",
    "}\n"
   ]
  },
  {
   "cell_type": "code",
   "execution_count": 8,
   "id": "328f13fe",
   "metadata": {},
   "outputs": [
    {
     "data": {
      "text/plain": [
       "defined \u001b[32mfunction\u001b[39m \u001b[36mschedule\u001b[39m"
      ]
     },
     "execution_count": 8,
     "metadata": {},
     "output_type": "execute_result"
    }
   ],
   "source": [
    "def schedule(person1: String, person2: String, lengthHours: Int): IO[Option[MeetingTime]] = {\n",
    "  for {\n",
    "    existingMeetings <- scheduledMeetings(person1, person2)\n",
    "    meetings = possibleMeetings(existingMeetings, 8, 16, lengthHours)\n",
    "  } yield meetings.headOption\n",
    "}\n"
   ]
  },
  {
   "cell_type": "markdown",
   "id": "e6e2a2da",
   "metadata": {},
   "source": [
    "## 8.27 実習: IO型の値によるリカバリー"
   ]
  },
  {
   "cell_type": "code",
   "execution_count": 9,
   "id": "1d2847e8",
   "metadata": {},
   "outputs": [
    {
     "data": {
      "text/plain": [
       "\u001b[32mimport \u001b[39m\u001b[36mcats.implicits._\n",
       "\n",
       "\u001b[39m\r\n",
       "defined \u001b[32mfunction\u001b[39m \u001b[36mcastTheDie\u001b[39m\r\n",
       "defined \u001b[32mfunction\u001b[39m \u001b[36mdrawAPointCard\u001b[39m\r\n",
       "\u001b[36mres9_3\u001b[39m: \u001b[32mIO\u001b[39m[\u001b[32mInt\u001b[39m] = \u001b[33mHandleErrorWith\u001b[39m(\n",
       "  ioa = \u001b[33mDelay\u001b[39m(\n",
       "    thunk = ammonite.$sess.cell9$Helper$$Lambda$3618/0x000000080168c258@11487d23,\n",
       "    event = cats.effect.tracing.TracingEvent$StackTrace\n",
       "  ),\n",
       "  f = cats.syntax.ApplicativeErrorOps$$$Lambda$3621/0x000000080168d1a8@1fa516d5,\n",
       "  event = cats.effect.tracing.TracingEvent$StackTrace\n",
       ")\r\n",
       "\u001b[36mres9_4\u001b[39m: \u001b[32mIO\u001b[39m[\u001b[32mInt\u001b[39m] = \u001b[33mHandleErrorWith\u001b[39m(\n",
       "  ioa = \u001b[33mDelay\u001b[39m(\n",
       "    thunk = ammonite.$sess.cell9$Helper$$Lambda$3622/0x000000080168d788@3fa306b8,\n",
       "    event = cats.effect.tracing.TracingEvent$StackTrace\n",
       "  ),\n",
       "  f = cats.syntax.ApplicativeErrorOps$$$Lambda$3621/0x000000080168d1a8@688879c4,\n",
       "  event = cats.effect.tracing.TracingEvent$StackTrace\n",
       ")\r\n",
       "\u001b[36mres9_5\u001b[39m: \u001b[32mIO\u001b[39m[\u001b[32mInt\u001b[39m] = \u001b[33mHandleErrorWith\u001b[39m(\n",
       "  ioa = \u001b[33mHandleErrorWith\u001b[39m(\n",
       "    ioa = \u001b[33mDelay\u001b[39m(\n",
       "      thunk = ammonite.$sess.cell9$Helper$$Lambda$3624/0x000000080168dcf8@340021aa,\n",
       "      event = cats.effect.tracing.TracingEvent$StackTrace\n",
       "    ),\n",
       "    f = cats.syntax.ApplicativeErrorOps$$$Lambda$3621/0x000000080168d1a8@35ae366,\n",
       "    event = cats.effect.tracing.TracingEvent$StackTrace\n",
       "  ),\n",
       "  f = cats.syntax.ApplicativeErrorOps$$$Lambda$3621/0x000000080168d1a8@34fe5e66,\n",
       "  event = cats.effect.tracing.TracingEvent$StackTrace\n",
       ")\r\n",
       "\u001b[36mres9_6\u001b[39m: \u001b[32mIO\u001b[39m[\u001b[32mInt\u001b[39m] = \u001b[33mFlatMap\u001b[39m(\n",
       "  ioe = \u001b[33mHandleErrorWith\u001b[39m(\n",
       "    ioa = \u001b[33mDelay\u001b[39m(\n",
       "      thunk = ammonite.$sess.cell9$Helper$$Lambda$3627/0x000000080168e518@16877b4f,\n",
       "      event = cats.effect.tracing.TracingEvent$StackTrace\n",
       "    ),\n",
       "    f = cats.syntax.ApplicativeErrorOps$$$Lambda$3621/0x000000080168d1a8@41b152cb,\n",
       "    event = cats.effect.tracing.TracingEvent$StackTrace\n",
       "  ),\n",
       "  f = ammonite.$sess.cell9$Helper$$Lambda$3629/0x000000080168ea80@6a5c5560,\n",
       "  event = cats.effect.tracing.TracingEvent$StackTrace\n",
       ")\r\n",
       "\u001b[36mres9_7\u001b[39m: \u001b[32mIO\u001b[39m[\u001b[32mInt\u001b[39m] = \u001b[33mHandleErrorWith\u001b[39m(\n",
       "  ioa = \u001b[33mFlatMap\u001b[39m(\n",
       "    ioe = \u001b[33mDelay\u001b[39m(\n",
       "      thunk = ammonite.$sess.cell9$Helper$$Lambda$3630/0x000000080168f060@4ca63423,\n",
       "      event = cats.effect.tracing.TracingEvent$StackTrace\n",
       "    ),\n",
       "    f = ammonite.$sess.cell9$Helper$$Lambda$3631/0x000000080168f318@3e49ca9e,\n",
       "    event = cats.effect.tracing.TracingEvent$StackTrace\n",
       "  ),\n",
       "  f = cats.syntax.ApplicativeErrorOps$$$Lambda$3621/0x000000080168d1a8@7882ae5f,\n",
       "  event = cats.effect.tracing.TracingEvent$StackTrace\n",
       ")"
      ]
     },
     "execution_count": 9,
     "metadata": {},
     "output_type": "execute_result"
    }
   ],
   "source": [
    "import cats.implicits._\n",
    "\n",
    "def castTheDie(): Int = ???\n",
    "def drawAPointCard(): Int = ???\n",
    "\n",
    "// 1\n",
    "IO.delay(castTheDie()).orElse(IO.delay(drawAPointCard()))\n",
    "\n",
    "// 2\n",
    "IO.delay(drawAPointCard()).orElse(IO.delay(castTheDie()))\n",
    "\n",
    "// 3\n",
    "IO.delay(castTheDie())\n",
    "  .orElse(IO.delay(drawAPointCard()))\n",
    "  .orElse(IO.pure(0))\n",
    "\n",
    "// 4\n",
    "for {\n",
    "  die <- IO.delay(castTheDie()).orElse(IO.pure(0))\n",
    "  card <- IO.delay(drawAPointCard()).orElse(IO.pure(0))\n",
    "} yield die + card\n",
    "\n",
    "// 5\n",
    "(for {\n",
    "  card <- IO.delay(drawAPointCard())\n",
    "  die1 <- IO.delay(castTheDie())\n",
    "  die2 <- IO.delay(castTheDie())\n",
    "} yield card + die1 + die2).orElse(IO.pure(0))\n"
   ]
  },
  {
   "cell_type": "markdown",
   "id": "5cfb8e37",
   "metadata": {},
   "source": [
    "## 8.28 潜在的な失敗にはどこで対処する？"
   ]
  },
  {
   "cell_type": "code",
   "execution_count": 9,
   "id": "de31ccfa",
   "metadata": {},
   "outputs": [
    {
     "name": "stderr",
     "output_type": "stream",
     "text": [
      "-- [E006] Not Found Error: cell10.sc:9:28 --------------------------------------\n",
      "9 |      case Some(meeting) => createMeeting(List(person1, person2), meeting)\n",
      "  |                            ^^^^^^^^^^^^^\n",
      "  |                            Not found: createMeeting\n",
      "  |\n",
      "  | longer explanation available when compiling with `-explain`\n",
      "Compilation Failed"
     ]
    }
   ],
   "source": [
    "// 1\n",
    "// def calendarEntries(name: String): IO[List[MeetingTime]] = {\n",
    "//   IO.delay(calendarEntriesApiCall(name))\n",
    "//     .orElse(IO.delay(calendarEntriesApiCall(name)))\n",
    "//     .orElse(IO.pure(List.empty))\n",
    "// }\n",
    "\n",
    "// 2\n",
    "// def scheduledMeetings(person1: String, person2: String): IO[List[MeetingTime]] = {\n",
    "//   for {\n",
    "//     person1Entries <- calendarEntries(person1)\n",
    "//                         .orElse(calendarEntries(person1))\n",
    "//                         .orElse(IO.pure(List.empty))\n",
    "//     person2Entries <- calendarEntries(person2)\n",
    "//                         .orElse(calendarEntries(person2))\n",
    "//                         .orElse(IO.pure(List.empty))\n",
    "//   } yield person1Entries.appendedAll(person2Entries)\n",
    "// }\n",
    "\n",
    "// 3\n",
    "def schedule(person1: String, person2: String, lengthHours: Int): IO[Option[MeetingTime]] = {\n",
    "  for {\n",
    "    existingMeetings <- scheduledMeetings(person1, person2)\n",
    "        .orElse(scheduledMeetings(person1, person2))\n",
    "        .orElse(IO.pure(List.empty))\n",
    "    meetings = possibleMeetings(existingMeetings, 8, 16, lengthHours)\n",
    "    possibleMeeting = meetings.headOption\n",
    "    _ <- possibleMeeting match {\n",
    "      case Some(meeting) => createMeeting(List(person1, person2), meeting)\n",
    "      case None          => IO.unit\n",
    "    }\n",
    "  } yield meetings.headOption\n",
    "}\n"
   ]
  },
  {
   "cell_type": "markdown",
   "id": "3aededf9",
   "metadata": {},
   "source": [
    "## 8.38 実習: 関数型シグネチャで直観を働かせる"
   ]
  },
  {
   "cell_type": "code",
   "execution_count": 29,
   "id": "bf54d418",
   "metadata": {},
   "outputs": [
    {
     "data": {
      "text/plain": [
       "defined \u001b[32mfunction\u001b[39m \u001b[36mex1\u001b[39m\r\n",
       "defined \u001b[32mfunction\u001b[39m \u001b[36mex2\u001b[39m\r\n",
       "defined \u001b[32mfunction\u001b[39m \u001b[36mf01\u001b[39m\r\n",
       "defined \u001b[32mfunction\u001b[39m \u001b[36mf02\u001b[39m\r\n",
       "defined \u001b[32mfunction\u001b[39m \u001b[36mf03\u001b[39m\r\n",
       "defined \u001b[32mfunction\u001b[39m \u001b[36mf04\u001b[39m\r\n",
       "defined \u001b[32mfunction\u001b[39m \u001b[36mf05\u001b[39m\r\n",
       "defined \u001b[32mfunction\u001b[39m \u001b[36mf06\u001b[39m\r\n",
       "defined \u001b[32mfunction\u001b[39m \u001b[36mf07\u001b[39m\r\n",
       "defined \u001b[32mfunction\u001b[39m \u001b[36mf08\u001b[39m\r\n",
       "defined \u001b[32mfunction\u001b[39m \u001b[36mf09\u001b[39m\r\n",
       "defined \u001b[32mfunction\u001b[39m \u001b[36mf10\u001b[39m\r\n",
       "defined \u001b[32mfunction\u001b[39m \u001b[36mf11\u001b[39m\r\n",
       "defined \u001b[32mfunction\u001b[39m \u001b[36mf12\u001b[39m\r\n",
       "defined \u001b[32mfunction\u001b[39m \u001b[36mf13\u001b[39m\r\n",
       "defined \u001b[32mfunction\u001b[39m \u001b[36mf14\u001b[39m\r\n",
       "defined \u001b[32mfunction\u001b[39m \u001b[36mf15\u001b[39m\r\n",
       "defined \u001b[32mfunction\u001b[39m \u001b[36mf16\u001b[39m\r\n",
       "defined \u001b[32mfunction\u001b[39m \u001b[36mf17\u001b[39m\r\n",
       "defined \u001b[32mfunction\u001b[39m \u001b[36mf18\u001b[39m\r\n",
       "defined \u001b[32mfunction\u001b[39m \u001b[36mf19\u001b[39m\r\n",
       "defined \u001b[32mfunction\u001b[39m \u001b[36mf20\u001b[39m\r\n",
       "defined \u001b[32mfunction\u001b[39m \u001b[36mf21\u001b[39m\r\n",
       "defined \u001b[32mfunction\u001b[39m \u001b[36mf22\u001b[39m\r\n",
       "defined \u001b[32mfunction\u001b[39m \u001b[36mf23\u001b[39m\r\n",
       "defined \u001b[32mfunction\u001b[39m \u001b[36mf24\u001b[39m\r\n",
       "defined \u001b[32mfunction\u001b[39m \u001b[36mf25\u001b[39m\r\n",
       "defined \u001b[32mfunction\u001b[39m \u001b[36mf26\u001b[39m\r\n",
       "defined \u001b[32mfunction\u001b[39m \u001b[36mf27\u001b[39m\r\n",
       "defined \u001b[32mfunction\u001b[39m \u001b[36mf28\u001b[39m\r\n",
       "defined \u001b[32mfunction\u001b[39m \u001b[36mf29\u001b[39m\r\n",
       "defined \u001b[32mfunction\u001b[39m \u001b[36mf30\u001b[39m\r\n",
       "defined \u001b[32mfunction\u001b[39m \u001b[36mf31\u001b[39m\r\n",
       "defined \u001b[32mfunction\u001b[39m \u001b[36mf32\u001b[39m\r\n",
       "defined \u001b[32mfunction\u001b[39m \u001b[36mf33\u001b[39m\r\n",
       "defined \u001b[32mfunction\u001b[39m \u001b[36mf34\u001b[39m\r\n",
       "defined \u001b[32mfunction\u001b[39m \u001b[36mf35\u001b[39m\r\n",
       "defined \u001b[32mfunction\u001b[39m \u001b[36mf36\u001b[39m\r\n",
       "defined \u001b[32mfunction\u001b[39m \u001b[36mf37\u001b[39m\r\n",
       "defined \u001b[32mfunction\u001b[39m \u001b[36mf38\u001b[39m\r\n",
       "defined \u001b[32mfunction\u001b[39m \u001b[36mf39\u001b[39m\r\n",
       "defined \u001b[32mfunction\u001b[39m \u001b[36mf40\u001b[39m"
      ]
     },
     "execution_count": 29,
     "metadata": {},
     "output_type": "execute_result"
    }
   ],
   "source": [
    "def ex1[A, B](x: List[A], y: A): List[A] = x.appended(y)\n",
    "def ex2[A, B](x: List[A], f: A => B): List[B] = x.map(f)\n",
    "\n",
    "def f01[A, B](x: IO[A], f: A => B): IO[B] = x.map(f)\n",
    "def f02[A](x: IO[IO[A]]): IO[A] = x.flatten\n",
    "def f03[A, B](x: IO[A], f: A => IO[B]): IO[B] = x.flatMap(f)\n",
    "def f04[A](x: A): IO[A] = IO.pure(x)\n",
    "def f05[A](impureAction: () => A): IO[A] = IO.delay(impureAction())\n",
    "def f06[A](x: IO[A], alternative: IO[A]): IO[A] = x.orElse(alternative)\n",
    "def f07[A](x: List[IO[A]]): IO[List[A]] = x.sequence\n",
    "def f08[A](x: Option[IO[A]]): IO[Option[A]] = x.sequence\n",
    "def f09[A, B](x: List[A], y: List[A]): List[A] = x.appendedAll(y)\n",
    "def f10[A](x: List[A], f: A => Boolean): List[A] = x.filter(f)\n",
    "def f11[A](x: List[A], zero: A, f: (A, A) => A): A = x.foldLeft(zero)(f)\n",
    "def f12[A](x: List[List[A]]): List[A] = x.flatten\n",
    "def f13[A, B](x: List[A], f: A => List[B]): List[B] = x.flatMap(f)\n",
    "def f14[A](x: List[A], f: A => Boolean): Boolean = x.exists(f)\n",
    "def f15[A, B](x: Set[A], f: A => B): Set[B] = x.map(f)\n",
    "def f16[A](x: Set[A], f: A => Boolean): Set[A] = x.filter(f)\n",
    "def f17[A](x: Set[A], zero: A, f: (A, A) => A): A = x.foldLeft(zero)(f)\n",
    "def f18[A](x: Set[Set[A]]): Set[A] = x.flatten\n",
    "def f19[A, B](x: Set[A], f: A => Set[B]): Set[B] = x.flatMap(f)\n",
    "def f20[A](x: Set[A], f: A => Boolean): Boolean = x.forall(f)\n",
    "def f21[A, B](x: Option[A], f: A => B): Option[B] = x.map(f)\n",
    "def f22[A](x: Option[A], f: A => Boolean): Option[A] = x.filter(f)\n",
    "def f23[A](x: Option[A], zero: A, f: (A, A) => A): A = x.foldLeft(zero)(f)\n",
    "def f24[A](x: Option[Option[A]]): Option[A] = x.flatten\n",
    "def f25[A, B](x: Option[A], f: A => Option[B]): Option[B] = x.flatMap(f)\n",
    "def f26[A](x: Option[A], f: A => Boolean): Boolean = x.exists(f)\n",
    "def f27(x: String): Option[Int] = x.toIntOption\n",
    "def f28[A](x: Option[A], alternative: Option[A]): Option[A] = x.orElse(alternative)\n",
    "def f29[A, B](x: Option[A], y: B): Either[B, A] = x.toRight(y)\n",
    "def f30[A, B](x: Option[A], y: B): Either[A, B] = x.toLeft(y)\n",
    "def f31[A](x: List[Option[A]]): Option[List[A]] = x.sequence\n",
    "def f32[A, B, C](x: Either[A, B], f: B => C): Either[A, C] = x.map(f)\n",
    "def f33[A, B, C](x: Either[A, B], zero: C, f: (C, B) => C): C = x.foldLeft(zero)(f)\n",
    "def f34[A, B](x: Either[A, Either[A, B]]): Either[A, B] = x.flatten\n",
    "def f35[A ,B, C](x: Either[A, B], f: B => Either[A, C]): Either[A, C] = x.flatMap(f)\n",
    "def f36[A, B](x: Either[A, B], f: B => Boolean): Boolean = x.exists(f)\n",
    "def f37[A, B](x: Either[A, B], alternative: Either[A, B]): Either[A, B] = x.orElse(alternative)\n",
    "def f38[A, B](x: Either[A, B]): Option[B] = x.toOption\n",
    "def f39[A, B](x: List[Either[A, B]]): Either[A, List[B]] = x.sequence\n",
    "def f40[A, B](x: Either[A, List[B]]): List[Either[A, B]] = x.sequence\n"
   ]
  }
 ],
 "metadata": {
  "kernelspec": {
   "display_name": "Scala",
   "language": "scala",
   "name": "scala"
  },
  "language_info": {
   "codemirror_mode": "text/x-scala",
   "file_extension": ".sc",
   "mimetype": "text/x-scala",
   "name": "scala",
   "nbconvert_exporter": "script",
   "version": "2.13.11"
  }
 },
 "nbformat": 4,
 "nbformat_minor": 5
}
