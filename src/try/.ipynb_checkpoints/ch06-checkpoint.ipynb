{
 "cells": [
  {
   "cell_type": "code",
   "execution_count": 1,
   "id": "f2ea6965-3b1a-4809-8627-f72593b1b32d",
   "metadata": {},
   "outputs": [
    {
     "data": {
      "text/plain": [
       "defined \u001b[32mclass\u001b[39m \u001b[36mTvShow\u001b[39m"
      ]
     },
     "execution_count": 1,
     "metadata": {},
     "output_type": "execute_result"
    }
   ],
   "source": [
    "case class TvShow(title: String, start: Int, end: Int)"
   ]
  },
  {
   "cell_type": "code",
   "execution_count": 14,
   "id": "8911b72e-9b11-4cd7-9d52-178cbb9b325a",
   "metadata": {},
   "outputs": [
    {
     "data": {
      "text/plain": [
       "defined \u001b[32mfunction\u001b[39m \u001b[36mextractYearStart\u001b[39m\r\n",
       "\u001b[36mres14_1\u001b[39m: \u001b[32mEither\u001b[39m[\u001b[32mString\u001b[39m, \u001b[32mInt\u001b[39m] = \u001b[33mRight\u001b[39m(value = \u001b[32m2002\u001b[39m)\r\n",
       "\u001b[36mres14_2\u001b[39m: \u001b[32mEither\u001b[39m[\u001b[32mString\u001b[39m, \u001b[32mInt\u001b[39m] = \u001b[33mLeft\u001b[39m(\n",
       "  value = \u001b[32m\"Can't extract start year from Ther Wire (-2008)\"\u001b[39m\n",
       ")\r\n",
       "\u001b[36mres14_3\u001b[39m: \u001b[32mEither\u001b[39m[\u001b[32mString\u001b[39m, \u001b[32mInt\u001b[39m] = \u001b[33mLeft\u001b[39m(value = \u001b[32m\"Can't parse oops\"\u001b[39m)\r\n",
       "\u001b[36mres14_4\u001b[39m: \u001b[32mEither\u001b[39m[\u001b[32mString\u001b[39m, \u001b[32mInt\u001b[39m] = \u001b[33mRight\u001b[39m(value = \u001b[32m2002\u001b[39m)"
      ]
     },
     "execution_count": 14,
     "metadata": {},
     "output_type": "execute_result"
    }
   ],
   "source": [
    "def extractYearStart(rawShow: String): Either[String, Int] = {\n",
    "    val bracketOpen = rawShow.indexOf('(')\n",
    "    val dash = rawShow.indexOf('-')\n",
    "    // val yearStrEither = if (bracketOpen != -1 && dash > bracketOpen + 1)\n",
    "    //     Right(rawShow.substring(bracketOpen + 1, dash))\n",
    "    //   else Left(s\"Can't extract start year from $rawShow\")\n",
    "    // yearStrEither.map(yearStr => \n",
    "    //                  yearStr.toIntOption.toRight(s\"Can't parse $yearStr\")).flatten\n",
    "    for {\n",
    "        yearStr <- if (bracketOpen != -1 && dash > bracketOpen + 1)\n",
    "                     Right(rawShow.substring(bracketOpen + 1, dash))\n",
    "                   else Left(s\"Can't extract start year from $rawShow\")\n",
    "        year <- yearStr.toIntOption.toRight(s\"Can't parse $yearStr\")\n",
    "    } yield year\n",
    "}\n",
    "\n",
    "extractYearStart(\"Ther Wire (2002-2008)\")\n",
    "extractYearStart(\"Ther Wire (-2008)\")\n",
    "extractYearStart(\"Ther Wire (oops-2008)\")\n",
    "extractYearStart(\"Ther Wire (2002-)\")"
   ]
  },
  {
   "cell_type": "code",
   "execution_count": 15,
   "id": "bf72d177-e957-41dd-b7fb-fe3e6117850f",
   "metadata": {},
   "outputs": [
    {
     "data": {
      "text/plain": [
       "defined \u001b[32mfunction\u001b[39m \u001b[36mextractYearEnd\u001b[39m"
      ]
     },
     "execution_count": 15,
     "metadata": {},
     "output_type": "execute_result"
    }
   ],
   "source": [
    "  def extractYearEnd(rawShow: String): Either[String, Int] = {\n",
    "    val dash         = rawShow.indexOf('-')\n",
    "    val bracketClose = rawShow.indexOf(')')\n",
    "    for {\n",
    "      yearStr <- if (dash != -1 && bracketClose > dash + 1) \n",
    "                   Right(rawShow.substring(dash + 1, bracketClose))\n",
    "                 else Left(s\"Can't extract end year from $rawShow\")\n",
    "      year    <- yearStr.toIntOption.toRight(s\"Can't parse $yearStr\")\n",
    "    } yield year\n",
    "  }"
   ]
  },
  {
   "cell_type": "code",
   "execution_count": 16,
   "id": "6862dd7e-36aa-4158-aae6-ac9ebc6eab36",
   "metadata": {},
   "outputs": [
    {
     "data": {
      "text/plain": [
       "defined \u001b[32mfunction\u001b[39m \u001b[36mextractName\u001b[39m"
      ]
     },
     "execution_count": 16,
     "metadata": {},
     "output_type": "execute_result"
    }
   ],
   "source": [
    "  def extractName(rawShow: String): Either[String, String] = {\n",
    "    val bracketOpen = rawShow.indexOf('(')\n",
    "    if (bracketOpen > 0) Right(rawShow.substring(0, bracketOpen).trim)\n",
    "    else Left(s\"Can't extract name from $rawShow\")\n",
    "  }"
   ]
  },
  {
   "cell_type": "code",
   "execution_count": 17,
   "id": "918ee634-493b-482c-be70-fab9b717546c",
   "metadata": {},
   "outputs": [
    {
     "data": {
      "text/plain": [
       "defined \u001b[32mfunction\u001b[39m \u001b[36mextractSingleYear\u001b[39m"
      ]
     },
     "execution_count": 17,
     "metadata": {},
     "output_type": "execute_result"
    }
   ],
   "source": [
    "  def extractSingleYear(rawShow: String): Either[String, Int] = {\n",
    "    val dash         = rawShow.indexOf('-')\n",
    "    val bracketOpen  = rawShow.indexOf('(')\n",
    "    val bracketClose = rawShow.indexOf(')')\n",
    "    for {\n",
    "      yearStr <- if (dash == -1 && bracketOpen != -1 && bracketClose > bracketOpen + 1)\n",
    "                   Right(rawShow.substring(bracketOpen + 1, bracketClose))\n",
    "                 else Left(s\"Can't extract single year from $rawShow\")\n",
    "      year    <- yearStr.toIntOption.toRight(s\"Can't parse $yearStr\")\n",
    "    } yield year\n",
    "  }"
   ]
  },
  {
   "cell_type": "code",
   "execution_count": 18,
   "id": "7e5d9a5f-9044-4eff-b0f7-3d451a381e2d",
   "metadata": {},
   "outputs": [
    {
     "data": {
      "text/plain": [
       "defined \u001b[32mfunction\u001b[39m \u001b[36mparseShow\u001b[39m"
      ]
     },
     "execution_count": 18,
     "metadata": {},
     "output_type": "execute_result"
    }
   ],
   "source": [
    "  def parseShow(rawShow: String): Either[String, TvShow] = {\n",
    "    for {\n",
    "      name      <- extractName(rawShow)\n",
    "      yearStart <- extractYearStart(rawShow).orElse(extractSingleYear(rawShow))\n",
    "      yearEnd   <- extractYearEnd(rawShow).orElse(extractSingleYear(rawShow))\n",
    "    } yield TvShow(name, yearStart, yearEnd)\n",
    "  }"
   ]
  },
  {
   "cell_type": "code",
   "execution_count": 19,
   "id": "7d6aa211-b764-4ba8-ad9d-76f982cd93e2",
   "metadata": {},
   "outputs": [
    {
     "data": {
      "text/plain": [
       "defined \u001b[32mfunction\u001b[39m \u001b[36maddOrResign\u001b[39m"
      ]
     },
     "execution_count": 19,
     "metadata": {},
     "output_type": "execute_result"
    }
   ],
   "source": [
    "def addOrResign(parsedShows: Either[String, List[TvShow]], newParsedShow: Either[String, TvShow]): Either[String, List[TvShow]] = {\n",
    "    for {\n",
    "        shows <- parsedShows\n",
    "        parsedShow <- newParsedShow\n",
    "    } yield shows.appended(parsedShow)\n",
    "}"
   ]
  },
  {
   "cell_type": "code",
   "execution_count": 21,
   "id": "dda5599c-99cf-4b50-8cca-fa9091115f7f",
   "metadata": {},
   "outputs": [
    {
     "data": {
      "text/plain": [
       "defined \u001b[32mfunction\u001b[39m \u001b[36mparseShows\u001b[39m\r\n",
       "\u001b[36mres21_1\u001b[39m: \u001b[32mEither\u001b[39m[\u001b[32mString\u001b[39m, \u001b[32mList\u001b[39m[\u001b[32mTvShow\u001b[39m]] = \u001b[33mLeft\u001b[39m(\n",
       "  value = \u001b[32m\"Can't extract name from [2019]\"\u001b[39m\n",
       ")\r\n",
       "\u001b[36mres21_2\u001b[39m: \u001b[32mEither\u001b[39m[\u001b[32mString\u001b[39m, \u001b[32mList\u001b[39m[\u001b[32mTvShow\u001b[39m]] = \u001b[33mLeft\u001b[39m(\n",
       "  value = \u001b[32m\"Can't extract single year from The Wire (-)\"\u001b[39m\n",
       ")\r\n",
       "\u001b[36mres21_3\u001b[39m: \u001b[32mEither\u001b[39m[\u001b[32mString\u001b[39m, \u001b[32mList\u001b[39m[\u001b[32mTvShow\u001b[39m]] = \u001b[33mRight\u001b[39m(\n",
       "  value = \u001b[33mList\u001b[39m(\n",
       "    \u001b[33mTvShow\u001b[39m(title = \u001b[32m\"The Wire\"\u001b[39m, start = \u001b[32m2002\u001b[39m, end = \u001b[32m2008\u001b[39m),\n",
       "    \u001b[33mTvShow\u001b[39m(title = \u001b[32m\"Chernobyl\"\u001b[39m, start = \u001b[32m2019\u001b[39m, end = \u001b[32m2019\u001b[39m)\n",
       "  )\n",
       ")"
      ]
     },
     "execution_count": 21,
     "metadata": {},
     "output_type": "execute_result"
    }
   ],
   "source": [
    "def parseShows(rawShows: List[String]): Either[String, List[TvShow]] = {\n",
    "    val initialResult: Either[String, List[TvShow]] = Right(List.empty)\n",
    "    rawShows\n",
    "      .map(parseShow)\n",
    "      .foldLeft(initialResult)(addOrResign)\n",
    "}\n",
    "\n",
    "parseShows(List(\"The Wire (2002-2008)\", \"[2019]\"))\n",
    "parseShows(List(\"The Wire (-)\", \"Chernobyl (2019)\"))\n",
    "parseShows(List(\"The Wire (2002-2008)\", \"Chernobyl (2019)\"))"
   ]
  },
  {
   "cell_type": "code",
   "execution_count": null,
   "id": "461b328b-69a9-4e64-9365-2d9eb1177d83",
   "metadata": {},
   "outputs": [],
   "source": []
  }
 ],
 "metadata": {
  "kernelspec": {
   "display_name": "Scala",
   "language": "scala",
   "name": "scala"
  },
  "language_info": {
   "codemirror_mode": "text/x-scala",
   "file_extension": ".sc",
   "mimetype": "text/x-scala",
   "name": "scala",
   "nbconvert_exporter": "script",
   "version": "2.13.11"
  }
 },
 "nbformat": 4,
 "nbformat_minor": 5
}
