{
 "cells": [
  {
   "cell_type": "markdown",
   "metadata": {},
   "source": [
    "# 第10章 並行プログラム"
   ]
  },
  {
   "cell_type": "markdown",
   "metadata": {},
   "source": [
    "## 10.2 宣言型の並行処理\n",
    "\n",
    "要件: 都市ランキング\n",
    "\n",
    "1. このプログラムでは、世界中の人々のチェックインから成るストリームを処理する必要がある(Stream[IO, City]型の値が提供される)\n",
    "2. このプログラムでは、チェックインがまだ処理中であっても、(チェックインでランク付けされた)現在の上位3都市のランキングを取得できなければならない。"
   ]
  },
  {
   "cell_type": "code",
   "execution_count": 19,
   "metadata": {},
   "outputs": [
    {
     "data": {
      "text/plain": [
       "defined \u001b[32mobject\u001b[39m \u001b[36mmodel\u001b[39m\r\n",
       "\u001b[32mimport \u001b[39m\u001b[36mmodel._\n",
       "\r\n",
       "\u001b[39m"
      ]
     },
     "execution_count": 19,
     "metadata": {},
     "output_type": "execute_result"
    }
   ],
   "source": [
    "object model {\n",
    "  opaque type City = String\n",
    "  object City {\n",
    "    def apply(name: String): City = name\n",
    "    extension (city: City) def name: String = city\n",
    "  }\n",
    "  case class CityStats(city: City, checkIns: Int)\n",
    "}\n",
    "import model._\n"
   ]
  },
  {
   "cell_type": "markdown",
   "metadata": {},
   "source": [
    "## 10.3 逐次と並行\n",
    "\n",
    "学習プロセス:\n",
    "\n",
    "1. 逐次IO\n",
    "2. ファイバを使ったIO\n",
    "3. 同時IOと非同期アクセス\n"
   ]
  },
  {
   "cell_type": "markdown",
   "metadata": {},
   "source": [
    "## 10.4 コーヒーブレイク: 逐次的に考える"
   ]
  },
  {
   "cell_type": "code",
   "execution_count": 20,
   "metadata": {},
   "outputs": [
    {
     "data": {
      "text/plain": [
       "\u001b[32mimport \u001b[39m\u001b[36m$ivy.$                                 \n",
       "\u001b[39m\r\n",
       "\u001b[32mimport \u001b[39m\u001b[36m$ivy.$                       \n",
       "\n",
       "\u001b[39m\r\n",
       "\u001b[32mimport \u001b[39m\u001b[36mcats.effect._\n",
       "\u001b[39m\r\n",
       "\u001b[32mimport \u001b[39m\u001b[36mfs2.Stream\n",
       "\n",
       "// チェックインを1つずつ処理し、各チェックイン要素を処理した後に現在のランキングを生成する関数を実装する。\n",
       "\u001b[39m\r\n",
       "defined \u001b[32mfunction\u001b[39m \u001b[36mprocessCheckIns\u001b[39m"
      ]
     },
     "execution_count": 20,
     "metadata": {},
     "output_type": "execute_result"
    }
   ],
   "source": [
    "import $ivy.`org.typelevel::cats-effect:3.2.9`\n",
    "import $ivy.`co.fs2::fs2-core:3.1.2`\n",
    "\n",
    "import cats.effect._\n",
    "import fs2.Stream\n",
    "\n",
    "// チェックインを1つずつ処理し、各チェックイン要素を処理した後に現在のランキングを生成する関数を実装する。\n",
    "def processCheckIns(checkIns: Stream[IO, City]): IO[Unit] = ???\n",
    "\n",
    "/**\n",
    " * ヒント:\n",
    " * scan...foldLeftみたいなやつ\n",
    " * foreach...コレクションの各要素に対して操作を行う。コレクションの各要素に対して引数として渡された関数を適用する。値は返されない。\n",
    " * Map...ハッシュマップ\n",
    " * updated(またはupdatedWith)\n",
    " */\n"
   ]
  },
  {
   "cell_type": "code",
   "execution_count": 21,
   "metadata": {},
   "outputs": [
    {
     "data": {
      "text/plain": [
       "defined \u001b[32mfunction\u001b[39m \u001b[36mtopCities\u001b[39m\r\n",
       "defined \u001b[32mfunction\u001b[39m \u001b[36mprocessCheckIns\u001b[39m"
      ]
     },
     "execution_count": 21,
     "metadata": {},
     "output_type": "execute_result"
    }
   ],
   "source": [
    "// 上位3都市のランキング\n",
    "def topCities(cityCheckIns: Map[City, Int]): List[CityStats] = {\n",
    "  cityCheckIns.toList\n",
    "    .map(_ match {\n",
    "      case (city, checkIns) => CityStats(city, checkIns)\n",
    "    })\n",
    "    .sortBy(_.checkIns)\n",
    "    .reverse\n",
    "    .take(3)\n",
    "}\n",
    "\n",
    "def processCheckIns(checkIns: Stream[IO, City]): IO[Unit] = {\n",
    "  checkIns\n",
    "    .scan(Map.empty[City, Int])((cityCheckIns, city) =>\n",
    "      cityCheckIns\n",
    "        .updatedWith(city)(_.map(_ + 1).orElse(Some(1)))\n",
    "    )\n",
    "    .map(topCities)\n",
    "    .foreach(IO.println)\n",
    "    .compile.drain\n",
    "}\n"
   ]
  },
  {
   "cell_type": "code",
   "execution_count": 22,
   "metadata": {},
   "outputs": [
    {
     "name": "stdout",
     "output_type": "stream",
     "text": [
      "List()\n",
      "List(CityStats(Sydney,1))\n",
      "List(CityStats(Sydney,2))\n",
      "List(CityStats(Sydney,2), CityStats(Cape Town,1))\n",
      "List(CityStats(Sydney,2), CityStats(Singapore,1), CityStats(Cape Town,1))\n",
      "List(CityStats(Cape Town,2), CityStats(Sydney,2), CityStats(Singapore,1))\n",
      "List(CityStats(Sydney,3), CityStats(Cape Town,2), CityStats(Singapore,1))\n"
     ]
    },
    {
     "data": {
      "text/plain": [
       "\u001b[32mimport \u001b[39m\u001b[36mcats.effect.unsafe.implicits.global\n",
       "\n",
       "// 実行例\n",
       "\u001b[39m\r\n",
       "\u001b[36mcheckIns\u001b[39m: \u001b[32mStream\u001b[39m[_root_.fs2.Stream[[A >: scala.Nothing <: scala.Any] => _root_.cats.effect.IO[A], _root_.ammonite.$sess.cell19.instance.model.City], \u001b[32mCity\u001b[39m] = Stream(..)"
      ]
     },
     "execution_count": 22,
     "metadata": {},
     "output_type": "execute_result"
    }
   ],
   "source": [
    "import cats.effect.unsafe.implicits.global\n",
    "\n",
    "// 実行例\n",
    "val checkIns: Stream[IO, City] =\n",
    "  Stream(\n",
    "    City(\"Sydney\"),\n",
    "    City(\"Sydney\"),\n",
    "    City(\"Cape Town\"),\n",
    "    City(\"Singapore\"),\n",
    "    City(\"Cape Town\"),\n",
    "    City(\"Sydney\")\n",
    "  ).covary[IO]\n",
    "\n",
    "// processCheckIns関数を呼び出すと、プログラムが返される。\n",
    "// そのプログラムを実行すると、ランキングの更新情報が7つコンソールに出力され\n",
    "// (最初の空のランキングを含む)、Unit型の値(())が返される。\n",
    "processCheckIns(checkIns).unsafeRunSync()\n",
    "/**\n",
    " * List()\n",
    " * List(CityStats(City(Sydney), 1))\n",
    " * List(CityStats(City(Sydney), 2))\n",
    " * List(CityStats(City(Sydney), 2), CityStats(City(Cape Town), 1))\n",
    " * ...\n",
    " */\n"
   ]
  },
  {
   "cell_type": "markdown",
   "metadata": {},
   "source": [
    "## 10.6 バッチ処理の必要性\n",
    "\n",
    "先程作成したコードでは都市の数が増えるほどソートプロセスに時間がかかるようになる。"
   ]
  },
  {
   "cell_type": "code",
   "execution_count": 23,
   "metadata": {},
   "outputs": [
    {
     "data": {
      "text/plain": [
       "\u001b[36mcheckIns\u001b[39m: \u001b[32mStream\u001b[39m[_root_.fs2.Stream[[A >: scala.Nothing <: scala.Any] => _root_.cats.effect.IO[A], _root_.ammonite.$sess.cell19.instance.model.City], \u001b[32mCity\u001b[39m] = Stream(..)"
      ]
     },
     "execution_count": 23,
     "metadata": {},
     "output_type": "execute_result"
    }
   ],
   "source": [
    "// 大規模なチェックインストリーム\n",
    "val checkIns: Stream[IO, City] =\n",
    "  Stream(City(\"Sydney\"), City(\"Dublin\"), City(\"Cape Town\"), City(\"Lima\"), City(\"Singapore\"))\n",
    "    .repeatN(100_000)\n",
    "    .append(Stream.range(0, 100_000).map(i => City(s\"City $i\")))\n",
    "    .append(Stream(City(\"Sydney\"), City(\"Sydney\"), City(\"Lima\")))\n",
    "    .covary[IO]\n",
    "\n",
    "// めっちゃ時間かかる\n",
    "// processCheckIns(checkIns).unsafeRunSync()\n"
   ]
  },
  {
   "cell_type": "markdown",
   "metadata": {},
   "source": [
    "## 10.7 バッチ処理を実装する\n",
    "\n",
    "chunkN...数値nを受け取り、n個の要素を1つのコレクションのような要素に変換した上で出力する"
   ]
  },
  {
   "cell_type": "code",
   "execution_count": 24,
   "metadata": {},
   "outputs": [
    {
     "name": "stdout",
     "output_type": "stream",
     "text": [
      "List(CityStats(Sydney,20000), CityStats(Lima,20000), CityStats(Dublin,20000))\n",
      "List(CityStats(Sydney,40000), CityStats(Lima,40000), CityStats(Dublin,40000))\n",
      "List(CityStats(Sydney,60000), CityStats(Lima,60000), CityStats(Dublin,60000))\n",
      "List(CityStats(Sydney,80000), CityStats(Lima,80000), CityStats(Dublin,80000))\n",
      "List(CityStats(Sydney,100000), CityStats(Lima,100000), CityStats(Dublin,100000))\n",
      "List(CityStats(Singapore,100000), CityStats(Sydney,100000), CityStats(Lima,100000))\n",
      "List(CityStats(Sydney,100002), CityStats(Lima,100001), CityStats(Singapore,100000))\n"
     ]
    },
    {
     "data": {
      "text/plain": [
       "defined \u001b[32mfunction\u001b[39m \u001b[36mprocessCheckIns\u001b[39m"
      ]
     },
     "execution_count": 24,
     "metadata": {},
     "output_type": "execute_result"
    }
   ],
   "source": [
    "def processCheckIns(checkIns: Stream[IO, City]): IO[Unit] = {\n",
    "  checkIns\n",
    "    .scan(Map.empty[City, Int])((cityCheckIns, city) =>\n",
    "      cityCheckIns\n",
    "        .updatedWith(city)(_.map(_ + 1).orElse(Some(1)))\n",
    "    )\n",
    "    .chunkN(100_000)\n",
    "    .map(_.last)\n",
    "    .unNone\n",
    "    .map(topCities)\n",
    "    .foreach(IO.println)\n",
    "    .compile.drain\n",
    "}\n",
    "\n",
    "processCheckIns(checkIns).unsafeRunSync()\n"
   ]
  },
  {
   "cell_type": "markdown",
   "metadata": {},
   "source": [
    "## 10.8 並行処理の世界\n",
    "\n",
    "本章ではスレッドを2つ使う。  \n",
    "1つはチェックイン用、もう1つはランキング用。  \n",
    "ただし、スレッドの数がもっと増えても安全性が確保されるような方法で実装する。"
   ]
  },
  {
   "cell_type": "markdown",
   "metadata": {},
   "source": [
    "## 10.12 Refの登場\n",
    "\n",
    "> 並行プログラミを作成するにあたって、ロックを作成したり、ロックを待機したり、  \n",
    "> 処理が終わったときに他のスレッドに通知したりする必要はない。  \n",
    "> また、ミュータブルなデータ構造で妥協する必要もない。  \n",
    "> 関数型プログラミングでは、あらゆるものをイミュータブルな値としてモデル化する。\n",
    ">\n",
    "> **Ref[IO, A]** はイミュータブルな値であり、型Aのイミュータブルな値に対する参照を表す。  \n",
    "> この参照は、**同時にアクセスすることが可能な、非同期のミュータブルな参照である**。  \n",
    "> 要するにAtomicReferenceのラッパーであり、ミューバルな参照であるため、副作用がある。"
   ]
  },
  {
   "cell_type": "markdown",
   "metadata": {},
   "source": [
    "## 10.13 Ref型の値を更新する\n",
    "\n",
    "Ref[IO, A]には、次のシグネチャを持つupdate関数がある。\n",
    "\n",
    "```scala\n",
    "def update(f: A => A): IO[Unit]\n",
    "```\n",
    "\n",
    "update関数はIO型の値を返す。つまり副作用のあるプログラムのディスクリプションが返される。"
   ]
  },
  {
   "cell_type": "markdown",
   "metadata": {},
   "source": [
    "## 10.14 Ref型の値を使う\n",
    "\n",
    "```scala\n",
    "// Ref.of関数のシグネチャ\n",
    "def of(a: A): IO[Ref[IO, A]]\n",
    "\n",
    "// Ref型の値を作成するには\n",
    "Ref.of[IO, A](initialValue: A)\n",
    "\n",
    "// Ref型の値を取得する関数Ref.getのシグネチャ\n",
    "def get: IO[A]\n",
    "\n",
    "// 例:\n",
    "val example: IO[Int] = for {\n",
    "  counter <- Ref.of[IO, Int](0)\n",
    "  _       <- counter.update(_ + 3)\n",
    "  result  <- counter.get\n",
    "} yield result\n",
    "\n",
    "example.unsafeRunSync()\n",
    "// →3\n",
    "```"
   ]
  },
  {
   "cell_type": "markdown",
   "metadata": {},
   "source": [
    "## 10.15 すべてを同時に行う\n",
    "\n",
    "関数型プログラミングの並列処理では、Threadオブジェクトを作成する必要はない。  \n",
    "**並列に実行すべきものを宣言するだけでよい**。  \n",
    "\n",
    "> ある意味、並行アプリケーションは小さな、副作用のある、逐次プログラムの集まりにすぎない。  \n",
    "> それらのプログラムが並列に実行されるというだけのことだ。\n",
    "\n",
    "- 逐次プログラム\n",
    "\n",
    "```scala\n",
    "val exampleSequential: IO[Int] = for {\n",
    "  counter <- Ref.of[IO, Int](0)\n",
    "  _       <- List(counter.update(_ + 2), counter.update(_ + 3), counter.update(_ + 4)).sequence\n",
    "  result  <- counter.get\n",
    "} yield result\n",
    "\n",
    "exampleSequential.unsafeRunSync()\n",
    "// →9\n",
    "```\n",
    "\n",
    "IO型の値からなるListで定義されているsequence関数は、それらの値を順番に実行する。  \n",
    "sequenceの並列処理バージョンがparSequenceである。\n",
    "\n",
    "- 並列プログラム\n",
    "\n",
    "```scala\n",
    "val exampleConcurrent: IO[Int] = for {\n",
    "  counter <- Ref.of[IO, Int](0)\n",
    "  _       <- List(counter.update(_ + 2), counter.update(_ + 3), counter.update(_ + 4)).parSequence    // ！\n",
    "  result  <- counter.get\n",
    "} yield result\n",
    "\n",
    "exampleConcurrent.unsafeRunSync()\n",
    "// →9\n",
    "```"
   ]
  },
  {
   "cell_type": "markdown",
   "metadata": {},
   "source": [
    "## 10.16 parSequenceを使う\n",
    "\n",
    "- IO.sleep\n",
    "\n",
    "```scala\n",
    "def sleep(delay: FiniteDuration): IO[Unit]\n",
    "```\n",
    "\n",
    "この関数はプログラムを表すIO型の値を返す。そのプログラムを実行すると、  \n",
    "指定された時間だけスリープして制御を戻す。  \n",
    "いわばThread.sleepの純粋関数型バージョンである。この関数はスレッドをブロックしない。  \n",
    "flatMapを使うと逐次プログラムが得られる。\n",
    "\n",
    "```scala\n",
    "// 最初に1秒間スリープした後、Ref型の値に3を足して更新するプログラム\n",
    "IO.sleep(FiniteDuration(1, TImeUnit.SECONDS)).flatMap(_ => counter.update(_ + 3))\n",
    "```\n",
    "\n",
    "```scala\n",
    "for {\n",
    "  counter  <- Ref.of[IO, Int](0)\n",
    "  program1 = counter.update(_ + 2)\n",
    "  program2 = IO.sleep(FiniteDuration(1, TImeUnit.SECONDS)).flatMap(_ => counter.update(_ + 3))\n",
    "  program3 = IO.sleep(FiniteDuration(1, TImeUnit.SECONDS)).flatMap(_ => counter.update(_ + 4))\n",
    "\n",
    "  _        <- List(program1, program2, program3).sequence\n",
    "  // _        <- List(program1, program2, program3).parSequence\n",
    "  result  <- counter.get\n",
    "} yield result\n",
    "```\n",
    "\n"
   ]
  },
  {
   "cell_type": "markdown",
   "metadata": {},
   "source": [
    "## 10.17 実習: 同時IO\n",
    "\n",
    "1. 1秒間待機してから2つのサイコロを振り、両方が終わるのを待ってそれらの目の合計を返す。\n",
    "2. 2つのサイコロを同時に振り、それぞれの結果を同時アクセスが可能な参照(List)に格納し、その値を結果として返す。\n",
    "3. 3つのサイコロを同時に振り、それぞれの結果を同時アクセスが可能な参照(List)に格納し、その値を結果として返す。\n",
    "4. 100個のサイコロを同時に振り、6の目の合計数を同時アクセスが可能な参照に格納し、その値を結果として返す。\n",
    "5. 100個のサイコロを同時に振り、それぞれの前に1秒間待機し、それらの合計を(同時参照を使わずに)返す。\n"
   ]
  },
  {
   "cell_type": "code",
   "execution_count": 25,
   "metadata": {},
   "outputs": [
    {
     "data": {
      "text/plain": [
       "\u001b[32mimport \u001b[39m\u001b[36mcats.effect._\n",
       "\u001b[39m\r\n",
       "\u001b[32mimport \u001b[39m\u001b[36mscala.concurrent._\n",
       "\u001b[39m\r\n",
       "\u001b[32mimport \u001b[39m\u001b[36mscala.concurrent.duration._\n",
       "\u001b[39m\r\n",
       "\u001b[32mimport \u001b[39m\u001b[36mcats.implicits._\n",
       "\n",
       "// サイコロ関数\n",
       "\u001b[39m\r\n",
       "defined \u001b[32mfunction\u001b[39m \u001b[36mcastTheDie\u001b[39m\r\n",
       "\u001b[36mres25_5\u001b[39m: \u001b[32mIO\u001b[39m[\u001b[32mInt\u001b[39m] = \u001b[33mFlatMap\u001b[39m(\n",
       "  ioe = \u001b[33mSleep\u001b[39m(delay = 1 second),\n",
       "  f = ammonite.$sess.cell25$Helper$$Lambda$4357/0x00000008017c7330@25686b59,\n",
       "  event = cats.effect.tracing.TracingEvent$StackTrace\n",
       ")\r\n",
       "\u001b[36mres25_6\u001b[39m: \u001b[32mIO\u001b[39m[\u001b[32mList\u001b[39m[\u001b[32mInt\u001b[39m]] = \u001b[33mFlatMap\u001b[39m(\n",
       "  ioe = \u001b[33mDelay\u001b[39m(\n",
       "    thunk = cats.effect.IO$$$Lambda$3773/0x00000008016c2620@1017363b,\n",
       "    event = cats.effect.tracing.TracingEvent$StackTrace\n",
       "  ),\n",
       "  f = ammonite.$sess.cell25$Helper$$Lambda$4358/0x00000008017c76f8@24af291f,\n",
       "  event = cats.effect.tracing.TracingEvent$StackTrace\n",
       ")\r\n",
       "\u001b[36mres25_7\u001b[39m: \u001b[32mIO\u001b[39m[\u001b[32mList\u001b[39m[\u001b[32mInt\u001b[39m]] = \u001b[33mFlatMap\u001b[39m(\n",
       "  ioe = \u001b[33mDelay\u001b[39m(\n",
       "    thunk = cats.effect.IO$$$Lambda$3773/0x00000008016c2620@165607f0,\n",
       "    event = cats.effect.tracing.TracingEvent$StackTrace\n",
       "  ),\n",
       "  f = ammonite.$sess.cell25$Helper$$Lambda$4359/0x00000008017c7ac0@30e0332,\n",
       "  event = cats.effect.tracing.TracingEvent$StackTrace\n",
       ")\r\n",
       "\u001b[36mres25_8\u001b[39m: \u001b[32mIO\u001b[39m[\u001b[32mInt\u001b[39m] = \u001b[33mFlatMap\u001b[39m(\n",
       "  ioe = \u001b[33mDelay\u001b[39m(\n",
       "    thunk = cats.effect.IO$$$Lambda$3773/0x00000008016c2620@1246b800,\n",
       "    event = cats.effect.tracing.TracingEvent$StackTrace\n",
       "  ),\n",
       "  f = ammonite.$sess.cell25$Helper$$Lambda$4360/0x00000008017c2000@741d0739,\n",
       "  event = cats.effect.tracing.TracingEvent$StackTrace\n",
       ")\r\n",
       "\u001b[36mres25_9\u001b[39m: \u001b[32mIO\u001b[39m[\u001b[32mInt\u001b[39m] = \u001b[33mMap\u001b[39m(\n",
       "  ioe = \u001b[33mMap\u001b[39m(\n",
       "    ioe = \u001b[33mMap\u001b[39m(\n",
       "      ioe = \u001b[33mUncancelable\u001b[39m(\n",
       "        body = cats.effect.kernel.instances.GenSpawnInstances$$anon$2$$Lambda$4035/0x0000000801759028@50afd031,\n",
       "        event = cats.effect.tracing.TracingEvent$StackTrace\n",
       "      ),\n",
       "      f = cats.data.Chain$$$Lambda$4036/0x00000008017593f0@5a9d7fd3,\n",
       "      event = cats.effect.tracing.TracingEvent$StackTrace\n",
       "    ),\n",
       "    f = cats.instances.ListInstances$$anon$1$$Lambda$4037/0x00000008017597b8@55eae661,\n",
       "    event = cats.effect.tracing.TracingEvent$StackTrace\n",
       "  ),\n",
       "  f = ammonite.$sess.cell25$Helper$$Lambda$4363/0x00000008017c2a48@7a7524e,\n",
       "  event = cats.effect.tracing.TracingEvent$StackTrace\n",
       ")"
      ]
     },
     "execution_count": 25,
     "metadata": {},
     "output_type": "execute_result"
    }
   ],
   "source": [
    "import cats.effect._\n",
    "import scala.concurrent._\n",
    "import scala.concurrent.duration._\n",
    "import cats.implicits._\n",
    "\n",
    "// サイコロ関数\n",
    "def castTheDie(): IO[Int] = ???\n",
    "\n",
    "// 1. 1秒間待機してから2つのサイコロを振り、両方が終わるのを待ってそれらの目の合計を返す。\n",
    "for {\n",
    "  _      <- IO.sleep(1.second)\n",
    "  result <- List(castTheDie(), castTheDie()).parSequence\n",
    "} yield result.sum\n",
    "\n",
    "// 2. 2つのサイコロを同時に振り、それぞれの結果を同時アクセスが可能な参照(List)に格納し、その値を結果として返す。\n",
    "for {\n",
    "  storedCasts <- Ref.of[IO, List[Int]](List.empty)\n",
    "  singleCast  <- castTheDie().map(result => storedCasts.update(_.appended(result)))\n",
    "  // flatMapを使うとコンパイルエラーになる\n",
    "  // singleCast  <- castTheDie().flatMap(result => storedCasts.update(_.appended(result)))\n",
    "  _           <- List(singleCast, singleCast).parSequence\n",
    "  casts       <- storedCasts.get\n",
    "} yield casts\n",
    "\n",
    "// 3. 3つのサイコロを同時に振り、それぞれの結果を同時アクセスが可能な参照(List)に格納し、その値を結果として返す。\n",
    "for {\n",
    "  storedCasts <- Ref.of[IO, List[Int]](List.empty)\n",
    "  singleCast  <- castTheDie().map(result => storedCasts.update(_.appended(result)))\n",
    "  // flatMapを使うとコンパイルエラーになる\n",
    "  // singleCast  <- castTheDie().flatMap(result => storedCasts.update(_.appended(result)))\n",
    "  _           <- List(singleCast, singleCast, singleCast).parSequence\n",
    "  casts       <- storedCasts.get\n",
    "} yield casts\n",
    "\n",
    "// 4. 100個のサイコロを同時に振り、6の目の合計数を同時アクセスが可能な参照に格納し、その値を結果として返す。\n",
    "for {\n",
    "  storedCasts <- Ref.of[IO, Int](0)\n",
    "  singleCast  <- castTheDie()\n",
    "                  .map(result =>\n",
    "                    if (result == 6) storedCasts.update(_ + 1) else IO.unit)\n",
    "  _           <- List.fill(100)(singleCast).parSequence\n",
    "  casts       <- storedCasts.get\n",
    "} yield casts\n",
    "\n",
    "// 5. 100個のサイコロを同時に振り、それぞれの前に1秒間待機し、それらの合計を(同時参照を使わずに)返す。\n",
    "List.fill(100)(IO.sleep(1.second).flatMap(_ => castTheDie())).parSequence.map(_.sum)\n"
   ]
  },
  {
   "cell_type": "markdown",
   "metadata": {},
   "source": [
    "## 10.18 平行性をモデル化する\n",
    "\n",
    "同時参照が2つ必要:\n",
    "\n",
    "1. チェックインを格納するための参照(storedCheckIns)\n",
    "2. 現在のランキングを格納するための参照(storedRanking)\n",
    "\n",
    "よって少なくとも2種類の逐次プログラムが必要になる。\n",
    "\n",
    "1. checkInsProgramは、実行時にチェックインからなる入力ストリームをdrainし、それぞれをstoredCheckIns参照に安全に格納する。\n",
    "2. rankingProgramは、実行時に現在のチェックインを無限に読み取り、ランキングを計算し、storedRanking参照に格納する。\n",
    "\n",
    "最終的なソリューションでは、両方のプログラムを同時に実行する必要がある。"
   ]
  },
  {
   "cell_type": "markdown",
   "metadata": {},
   "source": [
    "## 10.19 Refとファイバを使ったコーディング"
   ]
  },
  {
   "cell_type": "code",
   "execution_count": 26,
   "metadata": {},
   "outputs": [
    {
     "data": {
      "text/plain": [
       "defined \u001b[32mfunction\u001b[39m \u001b[36mprocessCheckIns\u001b[39m\r\n",
       "defined \u001b[32mfunction\u001b[39m \u001b[36mupdateRanking\u001b[39m\r\n",
       "defined \u001b[32mfunction\u001b[39m \u001b[36mstoreCheckIn\u001b[39m"
      ]
     },
     "execution_count": 26,
     "metadata": {},
     "output_type": "execute_result"
    }
   ],
   "source": [
    "// processCheckInsを並行処理を行うようにアップデート\n",
    "def processCheckIns(checkIns: Stream[IO, City]): IO[Unit] = {\n",
    "  for {\n",
    "    // チェックイン、ランキングを格納する同時参照を実装\n",
    "    storedCheckIns  <- Ref.of[IO, Map[City, Int]](Map.empty)\n",
    "    storedRanking   <- Ref.of[IO, List[CityStats]](List.empty)\n",
    "    // 同時参照を更新するプログラムを実装\n",
    "    rankingProgram  = updateRanking(storedCheckIns, storedRanking)\n",
    "    checkInsProgram = checkIns.evalMap(storeCheckIn(storedCheckIns)).compile.drain\n",
    "    // 2つのプログラムを並行処理\n",
    "    _               <- List(rankingProgram, checkInsProgram).parSequence\n",
    "  } yield ()\n",
    "}\n",
    "\n",
    "// ランキング更新プログラムのシグネチャ\n",
    "def updateRanking(storedCheckIns: Ref[IO, Map[City, Int]], storedRanking: Ref[IO, List[CityStats]]): IO[Unit] = ???\n",
    "\n",
    "// チェックイン更新プログラム\n",
    "def storeCheckIn(storedCheckIns: Ref[IO, Map[City, Int]])(city: City): IO[Unit] = {\n",
    "  storedCheckIns.update(_.updatedWith(city)(_ match {\n",
    "    case None           => Some(1)\n",
    "    case Some(checkIns) => Some(checkIns + 1)\n",
    "  }))\n",
    "}\n"
   ]
  },
  {
   "cell_type": "markdown",
   "metadata": {},
   "source": [
    "未解決の問題:\n",
    "\n",
    "- updateRanking関数の実装が必要。\n",
    "- processCheckIns関数から返されたIO型の値を実行しても、フィードバックは返されない。  \n",
    "  ユーザーのために現在のランキングを出力する方法はまだ提供されていない。  \n",
    "  単純なprintlnすら使っていない。"
   ]
  },
  {
   "cell_type": "markdown",
   "metadata": {},
   "source": [
    "## 10.20 決して終わらないIO\n",
    "\n",
    "Notingは値を持たない型で、IO[Nothing]は実行時にプログラムから制御が戻らない、  \n",
    "またはプログラムが失敗することを意味する。他の関数型プログラミング言語では  \n",
    "Nothing型を「ボトム型」と呼ぶ。"
   ]
  },
  {
   "cell_type": "code",
   "execution_count": 27,
   "metadata": {},
   "outputs": [
    {
     "data": {
      "text/plain": [
       "defined \u001b[32mfunction\u001b[39m \u001b[36mupdateRanking\u001b[39m\r\n",
       "defined \u001b[32mfunction\u001b[39m \u001b[36mupdateRanking2\u001b[39m\r\n",
       "defined \u001b[32mfunction\u001b[39m \u001b[36mupdateRanking3\u001b[39m"
      ]
     },
     "execution_count": 27,
     "metadata": {},
     "output_type": "execute_result"
    }
   ],
   "source": [
    "// Nothing型を使ってupdateRankingを実装\n",
    "def updateRanking(storedCheckIns: Ref[IO, Map[City, Int]], storedRanking: Ref[IO, List[CityStats]]): IO[Nothing] = {\n",
    "  for {\n",
    "    newRanking <- storedCheckIns.get.map(topCities)\n",
    "    _          <- storedRanking.set(newRanking)\n",
    "    result     <- updateRanking(storedCheckIns, storedRanking)\n",
    "  } yield result\n",
    "}\n",
    "\n",
    "// updateRankingの別バージョン: foreverMを使う\n",
    "def updateRanking2(storedCheckIns: Ref[IO, Map[City, Int]], storedRanking: Ref[IO, List[CityStats]]): IO[Nothing] = {\n",
    "  (for {\n",
    "    newRanking <- storedCheckIns.get.map(topCities)\n",
    "    _          <- storedRanking.set(newRanking)\n",
    "  } yield ()).foreverM\n",
    "}\n",
    "\n",
    "// updateRankingの別バージョン: for内包表記を使わずflatMap/mapを使う\n",
    "def updateRanking3(storedCheckIns: Ref[IO, Map[City, Int]], storedRanking: Ref[IO, List[CityStats]]): IO[Nothing] = {\n",
    "  storedCheckIns.get.map(topCities).flatMap(storedRanking.set).foreverM\n",
    "}\n"
   ]
  },
  {
   "cell_type": "markdown",
   "metadata": {},
   "source": [
    "## 10.21 コーヒーブレイク: 並行的に考える\n",
    "\n",
    "要件(おさらい): 都市ランキング\n",
    "\n",
    "1. このプログラムでは、世界中の人々のチェックインから成るストリームを処理する必要がある(Stream[IO, City]型の値が提供される)\n",
    "2. このプログラムでは、チェックインがまだ処理中であっても、(チェックインでランク付けされた)現在の上位3都市のランキングを取得できなければならない。\n",
    "\n",
    "最新のランキングを確認できるようにする。  \n",
    "その前に、復習として、processCheckInsを更新し、**現在のランキングを1秒おきに出力する**ようにしてみる。"
   ]
  },
  {
   "cell_type": "code",
   "execution_count": 28,
   "metadata": {},
   "outputs": [
    {
     "data": {
      "text/plain": [
       "defined \u001b[32mfunction\u001b[39m \u001b[36moutputRankingPerSec\u001b[39m\r\n",
       "defined \u001b[32mfunction\u001b[39m \u001b[36mprocessCheckIns\u001b[39m"
      ]
     },
     "execution_count": 28,
     "metadata": {},
     "output_type": "execute_result"
    }
   ],
   "source": [
    "// 1秒毎にランキングを出力する\n",
    "def outputRankingPerSec(storedRanking: Ref[IO, List[CityStats]]): IO[Nothing] = {\n",
    "  for {\n",
    "    _       <- IO.sleep(1.second)\n",
    "    ranking <- storedRanking.get\n",
    "    _       <- IO.println(ranking)\n",
    "    result  <- outputRankingPerSec(storedRanking)\n",
    "  } yield result\n",
    "}\n",
    "\n",
    "// 現在のランキングを1秒おきに出力するようprocessCheckInsをアップデート\n",
    "def processCheckIns(checkIns: Stream[IO, City]): IO[Unit] = {\n",
    "  for {\n",
    "    storedCheckIns  <- Ref.of[IO, Map[City, Int]](Map.empty)\n",
    "    storedRanking   <- Ref.of[IO, List[CityStats]](List.empty)\n",
    "    rankingProgram  = updateRanking(storedCheckIns, storedRanking)\n",
    "    // 個人の回答\n",
    "    outputProgram   = outputRankingPerSec(storedRanking)\n",
    "    // 書籍の回答\n",
    "    // outputProgram   = IO.sleep(1.second)\n",
    "    //                     .flatMap(_ => storedRanking.get)\n",
    "    //                     .flatMap(IO.println)\n",
    "    //                     .foreverM\n",
    "    checkInsProgram = checkIns.evalMap(storeCheckIn(storedCheckIns)).compile.drain\n",
    "    _               <- List(rankingProgram, checkInsProgram, outputProgram).parSequence\n",
    "  } yield ()\n",
    "}\n"
   ]
  },
  {
   "cell_type": "markdown",
   "metadata": {},
   "source": [
    "## 10.23 非同期性のニーズ\n",
    "\n",
    "要件は「すでに処理されているチェックインの数にかかわらず、最新のランキングにいつでもアクセスできるようにしたい」とある。  \n",
    "チェックインの処理とランキングの生成を完全に切り離すために、スレッドを**非同期で**開始する必要がある。"
   ]
  },
  {
   "cell_type": "markdown",
   "metadata": {},
   "source": [
    "## 10.24 非同期アクセスの準備\n",
    "\n",
    "現在のプログラムは並行プログラムだが、**同期的**に使っている。  \n",
    "つまり、プログラムを実行したら、**プログラムが完了するまで待つ**必要がある。  \n",
    "結果を待っている間、**呼び出し元のスレッドはブロックされる**。\n",
    "\n",
    "現在の同期ソリューションを非同期ソリューションに置き換える。"
   ]
  },
  {
   "cell_type": "markdown",
   "metadata": {},
   "source": [
    "## 10.25 関数型非同期プログラムを設計する\n",
    "\n",
    "> プログラムを返す関数が必要である。そのプログラムは実行時にすべてのスレッドを生成し、  \n",
    "> 同時参照を使ってそれらのスレッドを接続し、直ちに制御を戻して、現在のランキングにいつでもアクセスできるようにする。  \n",
    "> 関数型プログラミングでは、すべてのものをイミュータブルな値としてモデル化するため、  \n",
    "> そのような非同期ハンドルもイミュータブルな値としてモデル化できる。  \n",
    "> このハンドルをProcessCheckInsと呼ぶことにする。"
   ]
  },
  {
   "cell_type": "code",
   "execution_count": 29,
   "metadata": {},
   "outputs": [
    {
     "data": {
      "text/plain": [
       "defined \u001b[32mclass\u001b[39m \u001b[36mProcessingCheckIns\u001b[39m"
      ]
     },
     "execution_count": 29,
     "metadata": {},
     "output_type": "execute_result"
    }
   ],
   "source": [
    "case class ProcessingCheckIns(\n",
    "  currentRanking: IO[List[CityStats]],\n",
    "  stop: IO[Unit]\n",
    ")\n"
   ]
  },
  {
   "cell_type": "markdown",
   "metadata": {},
   "source": [
    "この直積型を戻り値の型の一部として使うことができる。"
   ]
  },
  {
   "cell_type": "code",
   "execution_count": 30,
   "metadata": {},
   "outputs": [
    {
     "data": {
      "text/plain": [
       "defined \u001b[32mfunction\u001b[39m \u001b[36mprocessCheckIns\u001b[39m"
      ]
     },
     "execution_count": 30,
     "metadata": {},
     "output_type": "execute_result"
    }
   ],
   "source": [
    "def processCheckIns(checkIns: Stream[IO, City]): IO[ProcessingCheckIns] = ???\n"
   ]
  },
  {
   "cell_type": "markdown",
   "metadata": {},
   "source": [
    "新しいバージョンを実装する前に、そのようなAPIを持つ関数を使って非同期アクセスを実現する方法を確認する。\n",
    "\n",
    "```scala\n",
    "for {\n",
    "  processing <- processCheckIns(checkIns)\n",
    "  ranking    <- processing.currentRanking\n",
    "  _          <- IO.println(ranking)\n",
    "  _          <- IO.sleep(1.second)\n",
    "\n",
    "  // 他の処理\n",
    "\n",
    "  newRanking <- processing.currentRanking\n",
    "  _          <- processing.stop\n",
    "} yield newRanking\n",
    "```\n",
    "\n",
    "> これはクライアントが作成できるであろうプログラムの例である。  \n",
    "> まず、processCheckIns関数を呼び出す必要がある。この関数はすべてのファイバを生成し、  \n",
    "> IO型の2つの値が含まれたProcessingCheckIns型の値を返す。  \n",
    "> 値の1つは現在のランキングを返し、もう1つはすべてのファイバを停止する。  \n",
    "> つまり、両方の値を都合のよいタイミングで実行する責任はクライアントにある。"
   ]
  },
  {
   "cell_type": "markdown",
   "metadata": {},
   "source": [
    "## 10.26 ファイバを手動で管理する\n",
    "\n",
    "IO型にはstart関数がある。この関数はIO型の値をファイバで実行し、このファイバへのハンドルをその終了を待たずに返すことができる。\n",
    "\n",
    "```scala\n",
    "// IO.start関数のシグネチャ\n",
    "def start[A]: IO[FiberIO[A]]\n",
    "```\n",
    "\n",
    "ファイバへのハンドルは戻り値を見てわかる通りFiberIO[A]型のイミュータブルな値で表される。  \n",
    "このハンドルを使ってさまざまなことができるが、最も重要なのはcancel関数である。\n",
    "\n",
    "```scala\n",
    "// FiberIO[A].cancel関数のシグネチャ\n",
    "def cancel: IO[Unit]\n",
    "```\n",
    "\n",
    "このハンドルには、IO[Unit]を返すcancel関数がある。  \n",
    "IO[Unit]は実行時に元のファイバをキャンセルするプログラムである。\n",
    "\n",
    "ただし、同時IOの作成に関しては、startやcancelのような関数よりも、parSequence関数  \n",
    "(および同様のセマンティクスを持つ他の関数)を使うほうがよい選択肢と見なされる。(p.394)"
   ]
  },
  {
   "cell_type": "markdown",
   "metadata": {},
   "source": [
    "## 10.27 関数型の非同期プログラムのコーディング\n",
    "\n",
    "start関数、cancel関数を使って、processCheckInsの最終バージョンをモデル化する。"
   ]
  },
  {
   "cell_type": "code",
   "execution_count": 32,
   "metadata": {},
   "outputs": [
    {
     "data": {
      "text/plain": [
       "defined \u001b[32mfunction\u001b[39m \u001b[36mprocessCheckIns\u001b[39m"
      ]
     },
     "execution_count": 32,
     "metadata": {},
     "output_type": "execute_result"
    }
   ],
   "source": [
    "// processCheckInsの最終バージョン\n",
    "def processCheckIns(checkIns: Stream[IO, City]): IO[ProcessingCheckIns] = {\n",
    "  for {\n",
    "    storedCheckIns  <- Ref.of[IO, Map[City, Int]](Map.empty)\n",
    "    storedRanking   <- Ref.of[IO, List[CityStats]](List.empty)\n",
    "    rankingProgram  = updateRanking(storedCheckIns, storedRanking)\n",
    "    checkInsProgram = checkIns.evalMap(storeCheckIn(storedCheckIns)).compile.drain\n",
    "    fiber           <- List(rankingProgram, checkInsProgram).parSequence.start\n",
    "  } yield ProcessingCheckIns(storedRanking.get, fiber.cancel)\n",
    "}\n"
   ]
  },
  {
   "cell_type": "markdown",
   "metadata": {},
   "source": [
    "## 10.28 本章のまとめ\n",
    "\n",
    "- 並行プログラムのフローを宣言型で設計する\n",
    "- 軽量な仮想スレッド(ファイバ)を使う\n",
    "- さまざまなスレッドのデータを安全に格納し、それらのデータにアクセスする\n",
    "- イベントのストリームを非同期で処理する"
   ]
  }
 ],
 "metadata": {
  "kernelspec": {
   "display_name": "Scala",
   "language": "scala",
   "name": "scala"
  },
  "language_info": {
   "codemirror_mode": "text/x-scala",
   "file_extension": ".sc",
   "mimetype": "text/x-scala",
   "name": "scala",
   "nbconvert_exporter": "script",
   "version": "2.13.11"
  }
 },
 "nbformat": 4,
 "nbformat_minor": 2
}
