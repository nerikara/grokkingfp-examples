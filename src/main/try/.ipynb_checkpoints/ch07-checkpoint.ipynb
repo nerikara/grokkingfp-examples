{
 "cells": [
  {
   "cell_type": "markdown",
   "id": "ea156525-0739-4a71-b092-8a8d76965918",
   "metadata": {},
   "source": [
    "# 第7章 型としての要件"
   ]
  },
  {
   "cell_type": "code",
   "execution_count": 50,
   "id": "4acc1fb9-2471-433f-9bc0-e901e8b61576",
   "metadata": {},
   "outputs": [
    {
     "data": {
      "text/plain": [
       "defined \u001b[32mobject\u001b[39m \u001b[36mmodel\u001b[39m\r\n",
       "\u001b[32mimport \u001b[39m\u001b[36mmodel._\r\n",
       "\u001b[39m"
      ]
     },
     "execution_count": 50,
     "metadata": {},
     "output_type": "execute_result"
    }
   ],
   "source": [
    "object model {\n",
    "    opaque type Location = String\n",
    "    object Location {\n",
    "        def apply(value: String): Location = value\n",
    "        extension(a: Location) def name: String = a\n",
    "    }\n",
    "}\n",
    "\n",
    "import model._"
   ]
  },
  {
   "cell_type": "code",
   "execution_count": 51,
   "id": "b88c8db6-9846-422d-a416-f442c6b263f9",
   "metadata": {},
   "outputs": [
    {
     "data": {
      "text/plain": [
       "defined \u001b[32mclass\u001b[39m \u001b[36mPeriodYears\u001b[39m\r\n",
       "defined \u001b[32mclass\u001b[39m \u001b[36mYearsActive\u001b[39m\r\n",
       "\u001b[32mimport \u001b[39m\u001b[36mYearsActive._\r\n",
       "\u001b[39m"
      ]
     },
     "execution_count": 51,
     "metadata": {},
     "output_type": "execute_result"
    }
   ],
   "source": [
    "case class PeriodYears(start: Int, end: Int)\n",
    "\n",
    "enum YearsActive {\n",
    "    case StillActive(since: Int)\n",
    "    case ActiveInPast(periods: List[PeriodYears])\n",
    "}\n",
    "\n",
    "import YearsActive._"
   ]
  },
  {
   "cell_type": "code",
   "execution_count": 52,
   "id": "ea5d9b60-871a-45f2-a001-bb8f11fde005",
   "metadata": {},
   "outputs": [
    {
     "data": {
      "text/plain": [
       "defined \u001b[32mclass\u001b[39m \u001b[36mMusicGenre\u001b[39m\r\n",
       "\u001b[32mimport \u001b[39m\u001b[36mMusicGenre._\r\n",
       "\u001b[39m"
      ]
     },
     "execution_count": 52,
     "metadata": {},
     "output_type": "execute_result"
    }
   ],
   "source": [
    "enum MusicGenre {\n",
    "    case HeavyMetal\n",
    "    case Pop\n",
    "    case HardRock\n",
    "}\n",
    "\n",
    "import MusicGenre._"
   ]
  },
  {
   "cell_type": "code",
   "execution_count": 53,
   "id": "abd16292-4723-4a7d-a658-e42074589409",
   "metadata": {},
   "outputs": [
    {
     "data": {
      "text/plain": [
       "defined \u001b[32mclass\u001b[39m \u001b[36mArtist\u001b[39m"
      ]
     },
     "execution_count": 53,
     "metadata": {},
     "output_type": "execute_result"
    }
   ],
   "source": [
    "case class Artist(\n",
    "    name: String,\n",
    "    genre: MusicGenre,\n",
    "    origin: Location,\n",
    "    yearsActive: YearsActive\n",
    ")"
   ]
  },
  {
   "cell_type": "code",
   "execution_count": 54,
   "id": "880f784f-280f-467a-9ce9-00523b65b1c9",
   "metadata": {},
   "outputs": [
    {
     "data": {
      "text/plain": [
       "\u001b[36martists\u001b[39m: \u001b[32mList\u001b[39m[\u001b[32mArtist\u001b[39m] = \u001b[33mList\u001b[39m(\n",
       "  \u001b[33mArtist\u001b[39m(\n",
       "    name = \u001b[32m\"Metallica\"\u001b[39m,\n",
       "    genre = HeavyMetal,\n",
       "    origin = \u001b[32m\"U.S.\"\u001b[39m,\n",
       "    yearsActive = \u001b[33mStillActive\u001b[39m(since = \u001b[32m1981\u001b[39m)\n",
       "  ),\n",
       "  \u001b[33mArtist\u001b[39m(\n",
       "    name = \u001b[32m\"Led Zeppelin\"\u001b[39m,\n",
       "    genre = HardRock,\n",
       "    origin = \u001b[32m\"England\"\u001b[39m,\n",
       "    yearsActive = \u001b[33mActiveInPast\u001b[39m(\n",
       "      periods = \u001b[33mList\u001b[39m(\u001b[33mPeriodYears\u001b[39m(start = \u001b[32m1968\u001b[39m, end = \u001b[32m1980\u001b[39m))\n",
       "    )\n",
       "  ),\n",
       "  \u001b[33mArtist\u001b[39m(\n",
       "    name = \u001b[32m\"Bee Gees\"\u001b[39m,\n",
       "    genre = Pop,\n",
       "    origin = \u001b[32m\"England\"\u001b[39m,\n",
       "    yearsActive = \u001b[33mActiveInPast\u001b[39m(\n",
       "      periods = \u001b[33mList\u001b[39m(\n",
       "        \u001b[33mPeriodYears\u001b[39m(start = \u001b[32m1958\u001b[39m, end = \u001b[32m2003\u001b[39m),\n",
       "        \u001b[33mPeriodYears\u001b[39m(start = \u001b[32m2009\u001b[39m, end = \u001b[32m2012\u001b[39m)\n",
       "      )\n",
       "    )\n",
       "  )\n",
       ")"
      ]
     },
     "execution_count": 54,
     "metadata": {},
     "output_type": "execute_result"
    }
   ],
   "source": [
    "val artists = List(\n",
    "    Artist(\"Metallica\", HeavyMetal, Location(\"U.S.\"), StillActive(since = 1981)),\n",
    "    Artist(\"Led Zeppelin\", HardRock, Location(\"England\"), ActiveInPast(List(PeriodYears(1968, 1980)))),\n",
    "    Artist(\"Bee Gees\", Pop, Location(\"England\"), ActiveInPast(List(PeriodYears(1958, 2003), PeriodYears(2009, 2012))))\n",
    ")"
   ]
  },
  {
   "cell_type": "code",
   "execution_count": 55,
   "id": "cf22a084-7b45-4ee6-aabe-76fd3bf51dad",
   "metadata": {},
   "outputs": [
    {
     "data": {
      "text/plain": [
       "defined \u001b[32mfunction\u001b[39m \u001b[36mwasArtistActive\u001b[39m"
      ]
     },
     "execution_count": 55,
     "metadata": {},
     "output_type": "execute_result"
    }
   ],
   "source": [
    "def wasArtistActive(artist: Artist, yearStart: Int, yearEnd: Int): Boolean =\n",
    "  artist.yearsActive match {\n",
    "      case StillActive(since) => since <= yearEnd\n",
    "      case ActiveInPast(periods) => periods.exists(period =>\n",
    "                                                     period.start <= yearEnd && period.end >= yearStart\n",
    "                                                  )\n",
    "  }"
   ]
  },
  {
   "cell_type": "code",
   "execution_count": null,
   "id": "37bde8b4-eca8-468c-a509-da15879c5628",
   "metadata": {},
   "outputs": [],
   "source": [
    "enum SearchCondition {\n",
    "    case SearchByGenre(genres: List[MusicGenre])\n",
    "    case SearchByOrigin(locations: List[Location])\n",
    "    case SearchByActiveYears(start: Int, end: Int)\n",
    "}\n",
    "\n",
    "import SearchCondition._"
   ]
  },
  {
   "cell_type": "code",
   "execution_count": null,
   "id": "64410dd8-f3f7-461c-8990-cc7d48a2bf0e",
   "metadata": {},
   "outputs": [],
   "source": [
    "def searchArtists(artists: List[Artist], requiredConditions: List[SearchCondition]): List[Artist] =\n",
    "  artists.filter(artist =>\n",
    "                requiredConditions.forall(condition =>\n",
    "                                           condition match {\n",
    "                                             case SearchByGenre(genres)           => genres.contains(artist.genre)\n",
    "                                             case SearchByOrigin(locations)       => locations.contains(artist.origin)\n",
    "                                             case SearchByActiveYears(start, end) => wasArtistActive(artist, start, end)\n",
    "                                           }\n",
    "                                         )\n",
    "                )"
   ]
  },
  {
   "cell_type": "markdown",
   "id": "bf1693df-b958-4c1d-b43c-53398c0fe414",
   "metadata": {},
   "source": [
    "## 演習"
   ]
  },
  {
   "cell_type": "code",
   "execution_count": null,
   "id": "51975e34-f2c0-4189-a778-03d4157f9a48",
   "metadata": {},
   "outputs": [],
   "source": [
    "def activeLength(artist: Artist, currentYear: Int): Int =\n",
    "  artist.yearsActive match {\n",
    "      case StillActive(since) => currentYear - since\n",
    "      case ActiveBetween(start, end) => end - start\n",
    "  }\n",
    "\n",
    "activeLength(Artist(\"Metallica\", HeavyMetal, Location(\"U.S.\"), StillActive(since = 1981)), 2022)\n",
    "activeLength(Artist(\"Led Zeppelin\", HardRock, Location(\"England\"), ActiveBetween(1968, 1980)), 2022)\n",
    "activeLength(Artist(\"Bee Gees\", Pop, Location(\"England\"), ActiveBetween(1958, 2003)), 2022)"
   ]
  },
  {
   "cell_type": "code",
   "execution_count": null,
   "id": "fa9cce54-e454-4dc1-b70a-f76ec10f3da6",
   "metadata": {},
   "outputs": [],
   "source": [
    "object model {\n",
    "    opaque type User = String\n",
    "    object User {\n",
    "        def apply(name: String): User = name\n",
    "    }\n",
    "\n",
    "    opaque type Artist = String\n",
    "    object Artist {\n",
    "        def apply(name: String): Artist = name\n",
    "    }\n",
    "\n",
    "    case class Song(artist: Artist, title: String)\n",
    "\n",
    "    enum MusicGenre {\n",
    "        case House\n",
    "        case Funk\n",
    "        case HipHop\n",
    "    }\n",
    "\n",
    "    enum PlaylistKind {\n",
    "        case CreatedByUser(user: User)\n",
    "        case BasedOnArtist(artist: Artist)\n",
    "        case BasedOnGenres(genres: Set[MusicGenre])\n",
    "    }\n",
    "\n",
    "    case class Playlist(name: String, kind: PlaylistKind, songs: List[Song])\n",
    "}\n",
    "\n",
    "import model._, model.MusicGenre._, model.PlaylistKind._"
   ]
  },
  {
   "cell_type": "code",
   "execution_count": null,
   "id": "a68a56c4-bc20-4463-8730-bbb26524b7c9",
   "metadata": {},
   "outputs": [],
   "source": [
    "val fooFighters = Artist(\"Foo Fighters\")\n",
    "val playlist1 = Playlist(\"This is Foo Fighters\", \n",
    "                         BasedOnArtist(fooFighters),\n",
    "                         List(Song(fooFighters, \"Breakout\"), Song(fooFighters, \"Learn To Fly\"))\n",
    "                         )\n",
    "val playlist2 = Playlist(\"Deep Focus\",\n",
    "                         BasedOnGenres(Set(House, Funk)),\n",
    "                         List(Song(Artist(\"Daft Punk\"), \"One More Time\"),\n",
    "                              Song(Artist(\"The Chemical Brothers\"), \"Hey Boy Hey Girl\"))\n",
    "                         )\n",
    "val playlist3 = Playlist(\"My Playlist\",\n",
    "                         CreatedByUser(User(\"Michal Plachta\")),\n",
    "                         List(Song(fooFighters, \"My Hero\"),\n",
    "                              Song(Artist(\"Iron Maiden\"), \"The Trooper\"))\n",
    "                         )"
   ]
  },
  {
   "cell_type": "code",
   "execution_count": null,
   "id": "560c2484-70e5-47e9-8df5-ebc4115c2d83",
   "metadata": {},
   "outputs": [],
   "source": [
    "def gatherSongs(playlists: List[Playlist], artist: Artist, genre: MusicGenre): List[Song] =\n",
    "  playlists.foldLeft(List.empty[Song])((songs, playlist) =>\n",
    "                                       val matchingSongs = playlist.kind match {\n",
    "                                           case CreatedByUser(user)           => playlist.songs.filter(_.artist == artist)\n",
    "                                           case BasedOnArtist(playlistArtist) => if (playlistArtist == artist) playlist.songs\n",
    "                                                                                 else List.empty\n",
    "                                           case BasedOnGenres(genres)         => if (genres.contains(genre)) playlist.songs\n",
    "                                                                                 else List.empty\n",
    "                                       }\n",
    "                                       songs.appendedAll(matchingSongs)\n",
    "                                      )\n",
    "\n",
    "gatherSongs(List(playlist1, playlist2, playlist3), fooFighters, House)"
   ]
  },
  {
   "cell_type": "code",
   "execution_count": null,
   "id": "68b9a894-5186-4a39-b7c4-9546bf09ca3f",
   "metadata": {},
   "outputs": [],
   "source": [
    "case class User(name: String, city: Option[String], favoriteArtists: List[String])\n",
    "\n",
    "val users = List(\n",
    "    User(\"Alice\", Some(\"Melbourne\"), List(\"Bee Gees\")),\n",
    "    User(\"Bob\", Some(\"Lagos\"), List(\"Bee Gees\")),\n",
    "    User(\"Eve\", Some(\"Tokyo\"), List.empty),\n",
    "    User(\"Mallory\", None, List(\"Metallica\", \"Bee Gees\")),\n",
    "    User(\"Trent\", Some(\"Buenos Aires\"), List(\"Led Zeppelin\"))\n",
    ")"
   ]
  },
  {
   "cell_type": "code",
   "execution_count": null,
   "id": "a3897dbd-ddbf-4612-8431-bc38502eb764",
   "metadata": {},
   "outputs": [],
   "source": [
    "def f1(users: List[User]): List[User] = \n",
    "  users.filter(user => user.city.forall(_ == \"Melbourne\"))\n",
    "\n",
    "f1(users)"
   ]
  },
  {
   "cell_type": "code",
   "execution_count": null,
   "id": "d5a89248-042c-4396-8e11-5bd76ab0a7a7",
   "metadata": {},
   "outputs": [],
   "source": [
    "def f2(users: List[User]): List[User] =\n",
    "  users.filter(user => user.city.exists(_ == \"Lagos\"))\n",
    "\n",
    "f2(users)"
   ]
  },
  {
   "cell_type": "code",
   "execution_count": null,
   "id": "f0ee2c7e-386a-4966-839a-b6a14bdaa4a6",
   "metadata": {},
   "outputs": [],
   "source": [
    "def f3(users: List[User]): List[User] =\n",
    "  users.filter(user => user.favoriteArtists.exists(_ == \"Bee Gees\"))\n",
    "\n",
    "f3(users)"
   ]
  },
  {
   "cell_type": "code",
   "execution_count": null,
   "id": "8ed4271e-41d7-4bc3-a304-e6cca90dadcd",
   "metadata": {},
   "outputs": [],
   "source": [
    "def f4(users: List[User]): List[User] =\n",
    "  users.filter(user =>\n",
    "               user.city.exists(_.substring(0, 1) == \"T\"))\n",
    "\n",
    "f4(users)"
   ]
  },
  {
   "cell_type": "code",
   "execution_count": null,
   "id": "f4d8d661-afcc-4083-9cc4-a7533b2f0395",
   "metadata": {},
   "outputs": [],
   "source": [
    "def f5(users: List[User]): List[User] =\n",
    "  users.filter(user =>\n",
    "               user.favoriteArtists.forall(_.length > 8))\n",
    "\n",
    "f5(users)"
   ]
  },
  {
   "cell_type": "code",
   "execution_count": null,
   "id": "6a2522ce-c4f5-42fb-b9b3-3abfb995927f",
   "metadata": {},
   "outputs": [],
   "source": [
    "def f6(users: List[User]): List[User] =\n",
    "  users.filter(user =>\n",
    "               user.favoriteArtists.exists(_.substring(0, 1) == \"M\"))\n",
    "\n",
    "f6(users)"
   ]
  }
 ],
 "metadata": {
  "kernelspec": {
   "display_name": "Scala",
   "language": "scala",
   "name": "scala"
  },
  "language_info": {
   "codemirror_mode": "text/x-scala",
   "file_extension": ".sc",
   "mimetype": "text/x-scala",
   "name": "scala",
   "nbconvert_exporter": "script",
   "version": "2.13.11"
  }
 },
 "nbformat": 4,
 "nbformat_minor": 5
}
