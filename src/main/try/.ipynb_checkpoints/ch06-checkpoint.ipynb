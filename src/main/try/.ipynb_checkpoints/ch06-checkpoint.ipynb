{
 "cells": [
  {
   "cell_type": "code",
   "execution_count": 1,
   "id": "f2ea6965-3b1a-4809-8627-f72593b1b32d",
   "metadata": {},
   "outputs": [
    {
     "data": {
      "text/plain": [
       "defined \u001b[32mclass\u001b[39m \u001b[36mTvShow\u001b[39m"
      ]
     },
     "execution_count": 1,
     "metadata": {},
     "output_type": "execute_result"
    }
   ],
   "source": [
    "case class TvShow(title: String, start: Int, end: Int)"
   ]
  },
  {
   "cell_type": "code",
   "execution_count": 2,
   "id": "8911b72e-9b11-4cd7-9d52-178cbb9b325a",
   "metadata": {},
   "outputs": [
    {
     "data": {
      "text/plain": [
       "defined \u001b[32mfunction\u001b[39m \u001b[36mextractYearStart\u001b[39m"
      ]
     },
     "execution_count": 2,
     "metadata": {},
     "output_type": "execute_result"
    }
   ],
   "source": [
    "  def extractYearStart(rawShow: String): Option[Int] = {\n",
    "    val bracketOpen = rawShow.indexOf('(')\n",
    "    val dash        = rawShow.indexOf('-')\n",
    "    for {\n",
    "      yearStr <- if (bracketOpen != -1 && dash > bracketOpen + 1) Some(rawShow.substring(bracketOpen + 1, dash))\n",
    "                 else None\n",
    "      year    <- yearStr.toIntOption\n",
    "    } yield year\n",
    "  }"
   ]
  },
  {
   "cell_type": "code",
   "execution_count": 3,
   "id": "bf72d177-e957-41dd-b7fb-fe3e6117850f",
   "metadata": {},
   "outputs": [
    {
     "data": {
      "text/plain": [
       "defined \u001b[32mfunction\u001b[39m \u001b[36mextractYearEnd\u001b[39m"
      ]
     },
     "execution_count": 3,
     "metadata": {},
     "output_type": "execute_result"
    }
   ],
   "source": [
    "  def extractYearEnd(rawShow: String): Option[Int] = {\n",
    "    val dash         = rawShow.indexOf('-')\n",
    "    val bracketClose = rawShow.indexOf(')')\n",
    "    for {\n",
    "      yearStr <- if (dash != -1 && bracketClose > dash + 1) Some(rawShow.substring(dash + 1, bracketClose))\n",
    "                 else None\n",
    "      year    <- yearStr.toIntOption\n",
    "    } yield year\n",
    "  }"
   ]
  },
  {
   "cell_type": "code",
   "execution_count": 4,
   "id": "6862dd7e-36aa-4158-aae6-ac9ebc6eab36",
   "metadata": {},
   "outputs": [
    {
     "data": {
      "text/plain": [
       "defined \u001b[32mfunction\u001b[39m \u001b[36mextractName\u001b[39m"
      ]
     },
     "execution_count": 4,
     "metadata": {},
     "output_type": "execute_result"
    }
   ],
   "source": [
    "  def extractName(rawShow: String): Option[String] = {\n",
    "    val bracketOpen = rawShow.indexOf('(')\n",
    "    if (bracketOpen > 0) Some(rawShow.substring(0, bracketOpen).trim)\n",
    "    else None\n",
    "  }"
   ]
  },
  {
   "cell_type": "code",
   "execution_count": 5,
   "id": "918ee634-493b-482c-be70-fab9b717546c",
   "metadata": {},
   "outputs": [
    {
     "data": {
      "text/plain": [
       "defined \u001b[32mfunction\u001b[39m \u001b[36mextractSingleYear\u001b[39m"
      ]
     },
     "execution_count": 5,
     "metadata": {},
     "output_type": "execute_result"
    }
   ],
   "source": [
    "  def extractSingleYear(rawShow: String): Option[Int] = {\n",
    "    val dash         = rawShow.indexOf('-')\n",
    "    val bracketOpen  = rawShow.indexOf('(')\n",
    "    val bracketClose = rawShow.indexOf(')')\n",
    "    for {\n",
    "      yearStr <- if (dash == -1 && bracketOpen != -1 && bracketClose > bracketOpen + 1)\n",
    "                   Some(rawShow.substring(bracketOpen + 1, bracketClose))\n",
    "                 else None\n",
    "      year    <- yearStr.toIntOption\n",
    "    } yield year\n",
    "  }"
   ]
  },
  {
   "cell_type": "code",
   "execution_count": 6,
   "id": "7e5d9a5f-9044-4eff-b0f7-3d451a381e2d",
   "metadata": {},
   "outputs": [
    {
     "data": {
      "text/plain": [
       "defined \u001b[32mfunction\u001b[39m \u001b[36mparseShow\u001b[39m"
      ]
     },
     "execution_count": 6,
     "metadata": {},
     "output_type": "execute_result"
    }
   ],
   "source": [
    "  def parseShow(rawShow: String): Option[TvShow] = {\n",
    "    for {\n",
    "      name      <- extractName(rawShow)\n",
    "      yearStart <- extractYearStart(rawShow).orElse(extractSingleYear(rawShow))\n",
    "      yearEnd   <- extractYearEnd(rawShow).orElse(extractSingleYear(rawShow))\n",
    "    } yield TvShow(name, yearStart, yearEnd)\n",
    "  }"
   ]
  },
  {
   "cell_type": "code",
   "execution_count": 7,
   "id": "27a24c40-e213-45c3-a80e-6008c014a084",
   "metadata": {},
   "outputs": [
    {
     "data": {
      "text/plain": [
       "defined \u001b[32mfunction\u001b[39m \u001b[36mparseShows\u001b[39m"
      ]
     },
     "execution_count": 7,
     "metadata": {},
     "output_type": "execute_result"
    }
   ],
   "source": [
    "def parseShows(rawShows: List[String]): List[TvShow] = {\n",
    "    rawShows\n",
    "      .map(parseShow)\n",
    "      .map(_.toList)\n",
    "      .flatten\n",
    "}"
   ]
  },
  {
   "cell_type": "code",
   "execution_count": 8,
   "id": "b99d5fe4-00fe-41e4-b3a5-d49150962662",
   "metadata": {},
   "outputs": [
    {
     "data": {
      "text/plain": [
       "\u001b[36mres8\u001b[39m: \u001b[32mList\u001b[39m[\u001b[32mTvShow\u001b[39m] = \u001b[33mList\u001b[39m(\n",
       "  \u001b[33mTvShow\u001b[39m(title = \u001b[32m\"Breaking Bad\"\u001b[39m, start = \u001b[32m2008\u001b[39m, end = \u001b[32m2013\u001b[39m)\n",
       ")"
      ]
     },
     "execution_count": 8,
     "metadata": {},
     "output_type": "execute_result"
    }
   ],
   "source": [
    "parseShows(List(\"Chernobyl [2019]\", \"Breaking Bad (2008-2013)\"))"
   ]
  },
  {
   "cell_type": "code",
   "execution_count": 9,
   "id": "04106197-c60f-483d-b39e-c3eb459220cb",
   "metadata": {},
   "outputs": [
    {
     "data": {
      "text/plain": [
       "\u001b[36mres9\u001b[39m: \u001b[32mList\u001b[39m[\u001b[32mTvShow\u001b[39m] = \u001b[33mList\u001b[39m()"
      ]
     },
     "execution_count": 9,
     "metadata": {},
     "output_type": "execute_result"
    }
   ],
   "source": [
    "parseShows(List(\"Chernobyl [2019]\", \"Breaking Bad\"))"
   ]
  },
  {
   "cell_type": "code",
   "execution_count": 10,
   "id": "7d6aa211-b764-4ba8-ad9d-76f982cd93e2",
   "metadata": {},
   "outputs": [
    {
     "data": {
      "text/plain": [
       "defined \u001b[32mfunction\u001b[39m \u001b[36maddOrResign\u001b[39m"
      ]
     },
     "execution_count": 10,
     "metadata": {},
     "output_type": "execute_result"
    }
   ],
   "source": [
    "def addOrResign(parsedShows: Option[List[TvShow]], newParsedShow: Option[TvShow]): Option[List[TvShow]] = {\n",
    "    for {\n",
    "        shows <- parsedShows\n",
    "        parsedShow <- newParsedShow\n",
    "    } yield shows.appended(parsedShow)\n",
    "}"
   ]
  },
  {
   "cell_type": "code",
   "execution_count": 11,
   "id": "dda5599c-99cf-4b50-8cca-fa9091115f7f",
   "metadata": {},
   "outputs": [
    {
     "data": {
      "text/plain": [
       "defined \u001b[32mfunction\u001b[39m \u001b[36mparseShows\u001b[39m"
      ]
     },
     "execution_count": 11,
     "metadata": {},
     "output_type": "execute_result"
    }
   ],
   "source": [
    "def parseShows(rawShows: List[String]): Option[List[TvShow]] = {\n",
    "    val initialResult: Option[List[TvShow]] = Some(List.empty)\n",
    "    rawShows\n",
    "      .map(parseShow)\n",
    "      .foldLeft(initialResult)(addOrResign)\n",
    "}"
   ]
  },
  {
   "cell_type": "code",
   "execution_count": null,
   "id": "7ce01a12-4fcb-4fe2-ae5f-62493a19a10b",
   "metadata": {},
   "outputs": [],
   "source": []
  }
 ],
 "metadata": {
  "kernelspec": {
   "display_name": "Scala",
   "language": "scala",
   "name": "scala"
  },
  "language_info": {
   "codemirror_mode": "text/x-scala",
   "file_extension": ".sc",
   "mimetype": "text/x-scala",
   "name": "scala",
   "nbconvert_exporter": "script",
   "version": "2.13.11"
  }
 },
 "nbformat": 4,
 "nbformat_minor": 5
}
